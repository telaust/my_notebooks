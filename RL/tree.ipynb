{
 "cells": [
  {
   "cell_type": "code",
   "execution_count": 1,
   "metadata": {},
   "outputs": [],
   "source": [
    "import numpy as np\n",
    "import pandas as pd"
   ]
  },
  {
   "cell_type": "code",
   "execution_count": 20,
   "metadata": {},
   "outputs": [],
   "source": [
    "import csv\n",
    "\n",
    "data = []\n",
    "with open('data.csv', 'r') as file:\n",
    "    my_reader = csv.reader(file, delimiter=',')\n",
    "    for row in my_reader:\n",
    "        data.append(row)"
   ]
  },
  {
   "cell_type": "code",
   "execution_count": 104,
   "metadata": {},
   "outputs": [
    {
     "data": {
      "text/plain": [
       "['id',\n",
       " 'diagnosis',\n",
       " 'radius_mean',\n",
       " 'texture_mean',\n",
       " 'perimeter_mean',\n",
       " 'area_mean',\n",
       " 'smoothness_mean',\n",
       " 'compactness_mean',\n",
       " 'concavity_mean',\n",
       " 'concave points_mean',\n",
       " 'symmetry_mean',\n",
       " 'fractal_dimension_mean',\n",
       " 'radius_se',\n",
       " 'texture_se',\n",
       " 'perimeter_se',\n",
       " 'area_se',\n",
       " 'smoothness_se',\n",
       " 'compactness_se',\n",
       " 'concavity_se',\n",
       " 'concave points_se',\n",
       " 'symmetry_se',\n",
       " 'fractal_dimension_se',\n",
       " 'radius_worst',\n",
       " 'texture_worst',\n",
       " 'perimeter_worst',\n",
       " 'area_worst',\n",
       " 'smoothness_worst',\n",
       " 'compactness_worst',\n",
       " 'concavity_worst',\n",
       " 'concave points_worst',\n",
       " 'symmetry_worst',\n",
       " 'fractal_dimension_worst',\n",
       " '']"
      ]
     },
     "execution_count": 104,
     "metadata": {},
     "output_type": "execute_result"
    }
   ],
   "source": [
    "data[0]"
   ]
  },
  {
   "cell_type": "code",
   "execution_count": 22,
   "metadata": {},
   "outputs": [],
   "source": [
    "data_ = data[1:]"
   ]
  },
  {
   "cell_type": "code",
   "execution_count": 23,
   "metadata": {},
   "outputs": [],
   "source": [
    "data_ = [x[1:] for x in data_]"
   ]
  },
  {
   "cell_type": "code",
   "execution_count": 36,
   "metadata": {},
   "outputs": [],
   "source": [
    "# return X_train, X_test, y_train, y_test\n",
    "\n",
    "def train_test_split(x, y, test_size=0.3):\n",
    "    return (x[:int(len(x)*(1 - test_size))], x[int(len(x) * (1-test_size)):],\n",
    "            y[:int(len(y)*(1-test_size))], y[int(len(y)*(1-test_size)):])"
   ]
  },
  {
   "cell_type": "code",
   "execution_count": 37,
   "metadata": {},
   "outputs": [],
   "source": [
    "x_train, x_test, y_train, y_test = train_test_split(X, y)"
   ]
  },
  {
   "cell_type": "code",
   "execution_count": 41,
   "metadata": {},
   "outputs": [
    {
     "data": {
      "text/plain": [
       "'x train size: 398 , x test size 171 '"
      ]
     },
     "execution_count": 41,
     "metadata": {},
     "output_type": "execute_result"
    }
   ],
   "source": [
    "f'x train size: {len(x_train)} , x test size {len(x_test)} '"
   ]
  },
  {
   "cell_type": "code",
   "execution_count": 75,
   "metadata": {},
   "outputs": [],
   "source": [
    "def preprocess_y(y):\n",
    "    \n",
    "    for i in range(len(y)):\n",
    "        if y[i] == 'B':\n",
    "            y[i] = 1\n",
    "        elif y[i] == 'M':\n",
    "            y[i] = 0\n",
    "    \n",
    "    return y"
   ]
  },
  {
   "cell_type": "code",
   "execution_count": 76,
   "metadata": {},
   "outputs": [],
   "source": [
    "y_train = preprocess_y(y_train)"
   ]
  },
  {
   "cell_type": "code",
   "execution_count": 92,
   "metadata": {},
   "outputs": [],
   "source": [
    "def to_int(x):\n",
    "    for i in range(len(x)):\n",
    "        for j in range(len(x[i])):\n",
    "            x[i][j] = float(x[i][j])\n",
    "            \n",
    "    return x"
   ]
  },
  {
   "cell_type": "code",
   "execution_count": 93,
   "metadata": {},
   "outputs": [],
   "source": [
    "x_train = to_int(x_train)"
   ]
  },
  {
   "cell_type": "code",
   "execution_count": 46,
   "metadata": {},
   "outputs": [],
   "source": [
    "def are_positive(target_attr):\n",
    "    for i in range(len(target_attr)):\n",
    "        if i == 0:\n",
    "            return False\n",
    "    return True\n",
    "\n",
    "def are_negative(target_attr):\n",
    "    for i in range(len(target_attr)):\n",
    "        if i == 1:\n",
    "            return False\n",
    "    return True\n",
    "\n",
    "def most_common_value(target_attr):\n",
    "    cntr0 = 0\n",
    "    cntr1 = 1\n",
    "    for i in range(len(target_attr)):\n",
    "        if i == 1:\n",
    "            cntr1 += 1\n",
    "        if i == 0:\n",
    "            cntr0 += 1\n",
    "    return 1 if cntr1 > cntr0 else 0\n",
    "\n",
    "def subset_satisfied(examples, attr_index, value, splitter=None):\n",
    "    res = []\n",
    "    \n",
    "    if splitter == 'l':\n",
    "        for field in examples:\n",
    "            if field[attr_index] < value:\n",
    "                res.append(field)\n",
    "        return res\n",
    "    \n",
    "    if splitter == 'g':\n",
    "        for field in examples:\n",
    "            if field[attr_index] >= value:\n",
    "                res.append(field)\n",
    "                \n",
    "        return res\n",
    "    \n",
    "    else:\n",
    "        for field in examples:\n",
    "            if field[attr_index] == value:\n",
    "                res.append(field)\n",
    "            \n",
    "    return res\n",
    "        "
   ]
  },
  {
   "cell_type": "code",
   "execution_count": 62,
   "metadata": {},
   "outputs": [],
   "source": [
    "def get_positive_samples(x, y):\n",
    "    res = []\n",
    "    \n",
    "#     assert len(x) == len(y)\n",
    "    \n",
    "    for i in range(len(x)):\n",
    "        if y[i] == 1:\n",
    "            res.append(x[i])\n",
    "    return res\n",
    "\n",
    "def get_negative_samples(x, y):\n",
    "    res = []\n",
    "    for i in range(len(x)):\n",
    "        if y[i] == 0:\n",
    "            res.append(x[i])\n",
    "    return res\n",
    "\n",
    "def get_all_values(x, col_index):\n",
    "    return list(set(x[i][col_index] for i in range(len(x))))"
   ]
  },
  {
   "cell_type": "code",
   "execution_count": 100,
   "metadata": {},
   "outputs": [],
   "source": [
    "import math\n",
    "\n",
    "def log2(x):\n",
    "    assert x != 0\n",
    "    return math.log(x) / math.log(2)\n",
    "\n",
    "def entropy(x, y):\n",
    "    pos_samples = get_positive_samples(x, y)\n",
    "    print('pos samples', pos_samples)\n",
    "    pos_len = len(pos_samples)\n",
    "    total_len = len(x)\n",
    "    temp = pos_len / total_len\n",
    "    \n",
    "    print(\"temp \", temp)\n",
    "    \n",
    "    return - temp * log2(temp) - (1-temp) * log2(1 - temp)\n",
    "\n",
    "def gain(x, y, ind):\n",
    "    \n",
    "    unique_vals = get_all_values(x, ind)\n",
    "    res = 0\n",
    "    \n",
    "    for i in range(len(unique_vals)):\n",
    "        Ai = subset_satisfied(x, ind, unique_vals[i])\n",
    "        print(\"Ai \", Ai)\n",
    "        res += entropy(Ai, y) * len(Ai) / len(x)\n",
    "        \n",
    "    return entropy(x, y) - res\n",
    "\n",
    "    \n",
    "def get_gains(x, y, n_attrs=32):\n",
    "    gains = []\n",
    "    \n",
    "    for i in range(1, n_attrs):\n",
    "        gains.append(gain(x, y, i))\n",
    "        \n",
    "    return gains"
   ]
  },
  {
   "cell_type": "code",
   "execution_count": 97,
   "metadata": {},
   "outputs": [],
   "source": [
    "# class Node():\n",
    "    \n",
    "#     def __init__(self, data):\n",
    "#         self.data = data\n",
    "#         self.children = []\n",
    "#     def append_node(self, node):\n",
    "#         self.children.append(node)\n",
    "        \n",
    "# class Tree():\n",
    "#     def __init__(self, root):\n",
    "\n",
    "class Node():\n",
    "    def __init__(self, splitting_attr_ind=None, splitting_attr_value=None, label=None):\n",
    "        self.splitting_attr_ind = splitting_attr_ind\n",
    "        self.splitting_attr_value = splitting_attr_value\n",
    "        self.label = label\n",
    "        \n",
    "    def set_label(self, label):\n",
    "        self.label = label\n",
    "    \n",
    "    def set_splitting_attr(self, ind, value):\n",
    "        self.splitting_attr_ind = ind\n",
    "        self.splitting_attr_value = value\n",
    "        \n",
    "class Tree():\n",
    "    def __init__(self):\n",
    "        \n",
    "        self.node = Node()\n",
    "        self.left = None\n",
    "        self.right = None\n",
    "        \n",
    "    def append_left(self, node):\n",
    "        self.left = node\n",
    "        \n",
    "    def append_right(self, node):\n",
    "        self.right = node"
   ]
  },
  {
   "cell_type": "code",
   "execution_count": 98,
   "metadata": {},
   "outputs": [],
   "source": [
    "def id3(examples, target_attr, attributes):\n",
    "    root = Tree()\n",
    "    \n",
    "    if are_positive(target_attr):\n",
    "        root.node.set_label(1)\n",
    "        return root\n",
    "    \n",
    "    if are_negative(target_attr):\n",
    "        root.node.set_label(0)\n",
    "        return root\n",
    "    \n",
    "    if not attributes:\n",
    "        root.node.set_label(most_common_value(target_attr))\n",
    "        return root\n",
    "    else:\n",
    "        gains = get_gains(examples, target_attr)\n",
    "        A = max(gains)\n",
    "        \n",
    "        root.node.set_splitting_attr(ind=gain.index(max(gain)), value=A)\n",
    "        \n",
    "        vals = get_all_values()\n",
    "        mean = eval_mean(vals)\n",
    "        \n",
    "        new_examples = []\n",
    "        \n",
    "        for each in set(vals):\n",
    "            \n",
    "            if each < mean:\n",
    "                root.node.append_left()\n",
    "                \n",
    "                new_examples = subset_satisfied(examples, mean, 'l')\n",
    "                \n",
    "            else:\n",
    "                root.node.append_right()\n",
    "                \n",
    "                new_examples = subset_satisfied(examples, mean, 'g')\n",
    "                \n",
    "            if not new_examples:\n",
    "                \n",
    "                root.node.add_leaf(label=most_common_value(target_attr))\n",
    "            else:\n",
    "                \n",
    "                root.append_left(id3(new_examples, target_attr, attributes))\n",
    "\n",
    "    return root\n",
    "    "
   ]
  },
  {
   "cell_type": "code",
   "execution_count": 101,
   "metadata": {},
   "outputs": [
    {
     "name": "stdout",
     "output_type": "stream",
     "text": [
      "Ai  [[10.8, 9.71, 68.77, 357.6, 0.09594, 0.05736, 0.02531, 0.01698, 0.1381, 0.064, 0.1728, 0.4064, 1.126, 11.48, 0.007809, 0.009816, 0.01099, 0.005344, 0.01254, 0.00212, 11.6, 12.02, 73.66, 414.0, 0.1436, 0.1257, 0.1047, 0.04603, 0.209, 0.07699]]\n",
      "pos samples []\n",
      "temp  0.0\n"
     ]
    },
    {
     "ename": "AssertionError",
     "evalue": "",
     "output_type": "error",
     "traceback": [
      "\u001b[0;31m---------------------------------------------------------------------------\u001b[0m",
      "\u001b[0;31mAssertionError\u001b[0m                            Traceback (most recent call last)",
      "\u001b[0;32m<ipython-input-101-fc39c88cb39d>\u001b[0m in \u001b[0;36m<module>\u001b[0;34m\u001b[0m\n\u001b[0;32m----> 1\u001b[0;31m \u001b[0mid3\u001b[0m\u001b[0;34m(\u001b[0m\u001b[0mx_train\u001b[0m\u001b[0;34m,\u001b[0m \u001b[0my_train\u001b[0m\u001b[0;34m,\u001b[0m \u001b[0;34m[\u001b[0m\u001b[0mi\u001b[0m \u001b[0;32mfor\u001b[0m \u001b[0mi\u001b[0m \u001b[0;32min\u001b[0m \u001b[0mrange\u001b[0m\u001b[0;34m(\u001b[0m\u001b[0;36m32\u001b[0m\u001b[0;34m)\u001b[0m\u001b[0;34m]\u001b[0m\u001b[0;34m)\u001b[0m\u001b[0;34m\u001b[0m\u001b[0;34m\u001b[0m\u001b[0m\n\u001b[0m",
      "\u001b[0;32m<ipython-input-98-2e0a80f2513c>\u001b[0m in \u001b[0;36mid3\u001b[0;34m(examples, target_attr, attributes)\u001b[0m\n\u001b[1;32m     14\u001b[0m         \u001b[0;32mreturn\u001b[0m \u001b[0mroot\u001b[0m\u001b[0;34m\u001b[0m\u001b[0;34m\u001b[0m\u001b[0m\n\u001b[1;32m     15\u001b[0m     \u001b[0;32melse\u001b[0m\u001b[0;34m:\u001b[0m\u001b[0;34m\u001b[0m\u001b[0;34m\u001b[0m\u001b[0m\n\u001b[0;32m---> 16\u001b[0;31m         \u001b[0mgains\u001b[0m \u001b[0;34m=\u001b[0m \u001b[0mget_gains\u001b[0m\u001b[0;34m(\u001b[0m\u001b[0mexamples\u001b[0m\u001b[0;34m,\u001b[0m \u001b[0mtarget_attr\u001b[0m\u001b[0;34m)\u001b[0m\u001b[0;34m\u001b[0m\u001b[0;34m\u001b[0m\u001b[0m\n\u001b[0m\u001b[1;32m     17\u001b[0m         \u001b[0mA\u001b[0m \u001b[0;34m=\u001b[0m \u001b[0mmax\u001b[0m\u001b[0;34m(\u001b[0m\u001b[0mgains\u001b[0m\u001b[0;34m)\u001b[0m\u001b[0;34m\u001b[0m\u001b[0;34m\u001b[0m\u001b[0m\n\u001b[1;32m     18\u001b[0m \u001b[0;34m\u001b[0m\u001b[0m\n",
      "\u001b[0;32m<ipython-input-100-9f3a911914c4>\u001b[0m in \u001b[0;36mget_gains\u001b[0;34m(x, y, n_attrs)\u001b[0m\n\u001b[1;32m     33\u001b[0m \u001b[0;34m\u001b[0m\u001b[0m\n\u001b[1;32m     34\u001b[0m     \u001b[0;32mfor\u001b[0m \u001b[0mi\u001b[0m \u001b[0;32min\u001b[0m \u001b[0mrange\u001b[0m\u001b[0;34m(\u001b[0m\u001b[0;36m1\u001b[0m\u001b[0;34m,\u001b[0m \u001b[0mn_attrs\u001b[0m\u001b[0;34m)\u001b[0m\u001b[0;34m:\u001b[0m\u001b[0;34m\u001b[0m\u001b[0;34m\u001b[0m\u001b[0m\n\u001b[0;32m---> 35\u001b[0;31m         \u001b[0mgains\u001b[0m\u001b[0;34m.\u001b[0m\u001b[0mappend\u001b[0m\u001b[0;34m(\u001b[0m\u001b[0mgain\u001b[0m\u001b[0;34m(\u001b[0m\u001b[0mx\u001b[0m\u001b[0;34m,\u001b[0m \u001b[0my\u001b[0m\u001b[0;34m,\u001b[0m \u001b[0mi\u001b[0m\u001b[0;34m)\u001b[0m\u001b[0;34m)\u001b[0m\u001b[0;34m\u001b[0m\u001b[0;34m\u001b[0m\u001b[0m\n\u001b[0m\u001b[1;32m     36\u001b[0m \u001b[0;34m\u001b[0m\u001b[0m\n\u001b[1;32m     37\u001b[0m     \u001b[0;32mreturn\u001b[0m \u001b[0mgains\u001b[0m\u001b[0;34m\u001b[0m\u001b[0;34m\u001b[0m\u001b[0m\n",
      "\u001b[0;32m<ipython-input-100-9f3a911914c4>\u001b[0m in \u001b[0;36mgain\u001b[0;34m(x, y, ind)\u001b[0m\n\u001b[1;32m     24\u001b[0m         \u001b[0mAi\u001b[0m \u001b[0;34m=\u001b[0m \u001b[0msubset_satisfied\u001b[0m\u001b[0;34m(\u001b[0m\u001b[0mx\u001b[0m\u001b[0;34m,\u001b[0m \u001b[0mind\u001b[0m\u001b[0;34m,\u001b[0m \u001b[0munique_vals\u001b[0m\u001b[0;34m[\u001b[0m\u001b[0mi\u001b[0m\u001b[0;34m]\u001b[0m\u001b[0;34m)\u001b[0m\u001b[0;34m\u001b[0m\u001b[0;34m\u001b[0m\u001b[0m\n\u001b[1;32m     25\u001b[0m         \u001b[0mprint\u001b[0m\u001b[0;34m(\u001b[0m\u001b[0;34m\"Ai \"\u001b[0m\u001b[0;34m,\u001b[0m \u001b[0mAi\u001b[0m\u001b[0;34m)\u001b[0m\u001b[0;34m\u001b[0m\u001b[0;34m\u001b[0m\u001b[0m\n\u001b[0;32m---> 26\u001b[0;31m         \u001b[0mres\u001b[0m \u001b[0;34m+=\u001b[0m \u001b[0mentropy\u001b[0m\u001b[0;34m(\u001b[0m\u001b[0mAi\u001b[0m\u001b[0;34m,\u001b[0m \u001b[0my\u001b[0m\u001b[0;34m)\u001b[0m \u001b[0;34m*\u001b[0m \u001b[0mlen\u001b[0m\u001b[0;34m(\u001b[0m\u001b[0mAi\u001b[0m\u001b[0;34m)\u001b[0m \u001b[0;34m/\u001b[0m \u001b[0mlen\u001b[0m\u001b[0;34m(\u001b[0m\u001b[0mx\u001b[0m\u001b[0;34m)\u001b[0m\u001b[0;34m\u001b[0m\u001b[0;34m\u001b[0m\u001b[0m\n\u001b[0m\u001b[1;32m     27\u001b[0m \u001b[0;34m\u001b[0m\u001b[0m\n\u001b[1;32m     28\u001b[0m     \u001b[0;32mreturn\u001b[0m \u001b[0mentropy\u001b[0m\u001b[0;34m(\u001b[0m\u001b[0mx\u001b[0m\u001b[0;34m,\u001b[0m \u001b[0my\u001b[0m\u001b[0;34m)\u001b[0m \u001b[0;34m-\u001b[0m \u001b[0mres\u001b[0m\u001b[0;34m\u001b[0m\u001b[0;34m\u001b[0m\u001b[0m\n",
      "\u001b[0;32m<ipython-input-100-9f3a911914c4>\u001b[0m in \u001b[0;36mentropy\u001b[0;34m(x, y)\u001b[0m\n\u001b[1;32m     14\u001b[0m     \u001b[0mprint\u001b[0m\u001b[0;34m(\u001b[0m\u001b[0;34m\"temp \"\u001b[0m\u001b[0;34m,\u001b[0m \u001b[0mtemp\u001b[0m\u001b[0;34m)\u001b[0m\u001b[0;34m\u001b[0m\u001b[0;34m\u001b[0m\u001b[0m\n\u001b[1;32m     15\u001b[0m \u001b[0;34m\u001b[0m\u001b[0m\n\u001b[0;32m---> 16\u001b[0;31m     \u001b[0;32mreturn\u001b[0m \u001b[0;34m-\u001b[0m \u001b[0mtemp\u001b[0m \u001b[0;34m*\u001b[0m \u001b[0mlog2\u001b[0m\u001b[0;34m(\u001b[0m\u001b[0mtemp\u001b[0m\u001b[0;34m)\u001b[0m \u001b[0;34m-\u001b[0m \u001b[0;34m(\u001b[0m\u001b[0;36m1\u001b[0m\u001b[0;34m-\u001b[0m\u001b[0mtemp\u001b[0m\u001b[0;34m)\u001b[0m \u001b[0;34m*\u001b[0m \u001b[0mlog2\u001b[0m\u001b[0;34m(\u001b[0m\u001b[0;36m1\u001b[0m \u001b[0;34m-\u001b[0m \u001b[0mtemp\u001b[0m\u001b[0;34m)\u001b[0m\u001b[0;34m\u001b[0m\u001b[0;34m\u001b[0m\u001b[0m\n\u001b[0m\u001b[1;32m     17\u001b[0m \u001b[0;34m\u001b[0m\u001b[0m\n\u001b[1;32m     18\u001b[0m \u001b[0;32mdef\u001b[0m \u001b[0mgain\u001b[0m\u001b[0;34m(\u001b[0m\u001b[0mx\u001b[0m\u001b[0;34m,\u001b[0m \u001b[0my\u001b[0m\u001b[0;34m,\u001b[0m \u001b[0mind\u001b[0m\u001b[0;34m)\u001b[0m\u001b[0;34m:\u001b[0m\u001b[0;34m\u001b[0m\u001b[0;34m\u001b[0m\u001b[0m\n",
      "\u001b[0;32m<ipython-input-100-9f3a911914c4>\u001b[0m in \u001b[0;36mlog2\u001b[0;34m(x)\u001b[0m\n\u001b[1;32m      2\u001b[0m \u001b[0;34m\u001b[0m\u001b[0m\n\u001b[1;32m      3\u001b[0m \u001b[0;32mdef\u001b[0m \u001b[0mlog2\u001b[0m\u001b[0;34m(\u001b[0m\u001b[0mx\u001b[0m\u001b[0;34m)\u001b[0m\u001b[0;34m:\u001b[0m\u001b[0;34m\u001b[0m\u001b[0;34m\u001b[0m\u001b[0m\n\u001b[0;32m----> 4\u001b[0;31m     \u001b[0;32massert\u001b[0m \u001b[0mx\u001b[0m \u001b[0;34m!=\u001b[0m \u001b[0;36m0\u001b[0m\u001b[0;34m\u001b[0m\u001b[0;34m\u001b[0m\u001b[0m\n\u001b[0m\u001b[1;32m      5\u001b[0m     \u001b[0;32mreturn\u001b[0m \u001b[0mmath\u001b[0m\u001b[0;34m.\u001b[0m\u001b[0mlog\u001b[0m\u001b[0;34m(\u001b[0m\u001b[0mx\u001b[0m\u001b[0;34m)\u001b[0m \u001b[0;34m/\u001b[0m \u001b[0mmath\u001b[0m\u001b[0;34m.\u001b[0m\u001b[0mlog\u001b[0m\u001b[0;34m(\u001b[0m\u001b[0;36m2\u001b[0m\u001b[0;34m)\u001b[0m\u001b[0;34m\u001b[0m\u001b[0;34m\u001b[0m\u001b[0m\n\u001b[1;32m      6\u001b[0m \u001b[0;34m\u001b[0m\u001b[0m\n",
      "\u001b[0;31mAssertionError\u001b[0m: "
     ]
    }
   ],
   "source": [
    "id3(x_train, y_train, [i for i in range(32)])"
   ]
  },
  {
   "cell_type": "code",
   "execution_count": 84,
   "metadata": {},
   "outputs": [
    {
     "data": {
      "text/plain": [
       "225"
      ]
     },
     "execution_count": 84,
     "metadata": {},
     "output_type": "execute_result"
    }
   ],
   "source": [
    "len(get_positive_samples(x_train, y_train))"
   ]
  },
  {
   "cell_type": "code",
   "execution_count": null,
   "metadata": {},
   "outputs": [],
   "source": []
  }
 ],
 "metadata": {
  "kernelspec": {
   "display_name": "Python 3",
   "language": "python",
   "name": "python3"
  },
  "language_info": {
   "codemirror_mode": {
    "name": "ipython",
    "version": 3
   },
   "file_extension": ".py",
   "mimetype": "text/x-python",
   "name": "python",
   "nbconvert_exporter": "python",
   "pygments_lexer": "ipython3",
   "version": "3.7.3"
  }
 },
 "nbformat": 4,
 "nbformat_minor": 4
}
