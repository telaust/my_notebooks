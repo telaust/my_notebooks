{
 "cells": [
  {
   "cell_type": "code",
   "execution_count": 1,
   "metadata": {},
   "outputs": [],
   "source": [
    "import numpy as np\n",
    "import pandas as pd"
   ]
  },
  {
   "cell_type": "code",
   "execution_count": 20,
   "metadata": {},
   "outputs": [],
   "source": [
    "import csv\n",
    "\n",
    "data = []\n",
    "with open('data.csv', 'r') as file:\n",
    "    my_reader = csv.reader(file, delimiter=',')\n",
    "    for row in my_reader:\n",
    "        data.append(row)"
   ]
  },
  {
   "cell_type": "code",
   "execution_count": 21,
   "metadata": {},
   "outputs": [],
   "source": [
    "# len(data[0])"
   ]
  },
  {
   "cell_type": "code",
   "execution_count": 22,
   "metadata": {},
   "outputs": [],
   "source": [
    "data_ = data[1:]"
   ]
  },
  {
   "cell_type": "code",
   "execution_count": 23,
   "metadata": {},
   "outputs": [],
   "source": [
    "data_ = [x[1:] for x in data_]"
   ]
  },
  {
   "cell_type": "code",
   "execution_count": 36,
   "metadata": {},
   "outputs": [],
   "source": [
    "# return X_train, X_test, y_train, y_test\n",
    "\n",
    "def train_test_split(x, y, test_size=0.3):\n",
    "    return (x[:int(len(x)*(1 - test_size))], x[int(len(x) * (1-test_size)):],\n",
    "            y[:int(len(y)*(1-test_size))], y[int(len(y)*(1-test_size)):])"
   ]
  },
  {
   "cell_type": "code",
   "execution_count": 37,
   "metadata": {},
   "outputs": [],
   "source": [
    "x_train, x_test, y_train, y_test = train_test_split(X, y)"
   ]
  },
  {
   "cell_type": "code",
   "execution_count": 41,
   "metadata": {},
   "outputs": [
    {
     "data": {
      "text/plain": [
       "'x train size: 398 , x test size 171 '"
      ]
     },
     "execution_count": 41,
     "metadata": {},
     "output_type": "execute_result"
    }
   ],
   "source": [
    "f'x train size: {len(x_train)} , x test size {len(x_test)} '"
   ]
  },
  {
   "cell_type": "code",
   "execution_count": null,
   "metadata": {},
   "outputs": [],
   "source": []
  },
  {
   "cell_type": "code",
   "execution_count": null,
   "metadata": {},
   "outputs": [],
   "source": []
  },
  {
   "cell_type": "code",
   "execution_count": 46,
   "metadata": {},
   "outputs": [],
   "source": [
    "def are_positive(target_attr):\n",
    "    for i in range(len(target_attr)):\n",
    "        if i == 0:\n",
    "            return False\n",
    "    return True\n",
    "\n",
    "def are_negative(target_attr):\n",
    "    for i in range(len(target_attr)):\n",
    "        if i == 1:\n",
    "            return False\n",
    "    return True\n",
    "\n",
    "def most_common_value(target_attr):\n",
    "    cntr0 = 0\n",
    "    cntr1 = 1\n",
    "    for i in range(len(target_attr)):\n",
    "        if i == 1:\n",
    "            cntr1 += 1\n",
    "        if i == 0:\n",
    "            cntr0 += 1\n",
    "    return 1 if cntr1 > cntr0 else 0\n",
    "\n",
    "def subset_satisfied(examples, attr_index, value, splitter=None):\n",
    "    res = []\n",
    "    \n",
    "    if splitter == 'l':\n",
    "        for field in examples:\n",
    "            if field[attr_index] < value:\n",
    "                res.append(field)\n",
    "        return res\n",
    "    \n",
    "    if splitter == 'g':\n",
    "        for field in examples:\n",
    "            if field[attr_index] >= value:\n",
    "                res.append(field)\n",
    "                \n",
    "        return res\n",
    "    \n",
    "    else:\n",
    "        for field in examples:\n",
    "            if field[attr_index] == value:\n",
    "                res.append(field)\n",
    "            \n",
    "    return res\n",
    "        "
   ]
  },
  {
   "cell_type": "code",
   "execution_count": 44,
   "metadata": {},
   "outputs": [],
   "source": [
    "# class Node():\n",
    "    \n",
    "#     def __init__(self, data):\n",
    "#         self.data = data\n",
    "#         self.children = []\n",
    "#     def append_node(self, node):\n",
    "#         self.children.append(node)\n",
    "        \n",
    "# class Tree():\n",
    "#     def __init__(self, root):\n",
    "\n",
    "class Node():\n",
    "    def __init__(self, splitting_attr_ind=None, splitting_attr_value=None, label=None):\n",
    "        self.splitting_attr_ind = splitting_attr_ind\n",
    "        self.splitting_attr_value = splitting_attr_value\n",
    "        self.label = label\n",
    "        \n",
    "    def set_label(self, label):\n",
    "        self.label = label\n",
    "    \n",
    "    def set_splitting_attr(self, ind, value):\n",
    "        self.splitting_attr_ind = ind\n",
    "        self.splitting_attr_value = value\n",
    "        \n",
    "class Tree():\n",
    "    def __init__(self):\n",
    "        assert isinstance(node, Node)\n",
    "        \n",
    "        self.node = Node()\n",
    "        self.left = None\n",
    "        self.right = None\n",
    "        \n",
    "    def append_left(self, node):\n",
    "        self.left = node\n",
    "        \n",
    "    def append_right(self, node):\n",
    "        self.right = node"
   ]
  },
  {
   "cell_type": "code",
   "execution_count": null,
   "metadata": {},
   "outputs": [],
   "source": [
    "def id3(examples, target_attr, attributes):\n",
    "    root = Tree()\n",
    "    \n",
    "    if are_positive(target_attr):\n",
    "        root.node.set_label(1)\n",
    "        return root\n",
    "    \n",
    "    if are_negative(target_attr):\n",
    "        root.node.set_label(0)\n",
    "        return root\n",
    "    \n",
    "    if not attributes:\n",
    "        root.node.set_label(most_common_value(target_attr))\n",
    "        return root\n",
    "    else:\n",
    "        gains = get_gains(examples, target_attr)\n",
    "        A = max(gains)\n",
    "        \n",
    "        root.node.set_splitting_attr(ind=gain.index(max(gain)), value=A)\n",
    "        \n",
    "        vals = get_all_value()\n",
    "        mean = eval_mean(vals)\n",
    "        \n",
    "        new_examples = []\n",
    "        for each in set(vals):\n",
    "            \n",
    "            if each < mean:\n",
    "                root.node.append_left()\n",
    "                \n",
    "                new_examples = subset_satisfied(examples, mean, 'l')\n",
    "                \n",
    "            else:\n",
    "                root.node.append_right()\n",
    "                \n",
    "                new_examples = subset_satisfied(examples, mean, 'g')\n",
    "                \n",
    "            if not new_examples:\n",
    "                \n",
    "                root.node.add_leaf(label=most_common_value(target_attr))\n",
    "            else:\n",
    "                \n",
    "                root.append_left(id3(new_examples, target_attr, attributes))\n",
    "            \n",
    "        \n",
    "    \n",
    "    "
   ]
  }
 ],
 "metadata": {
  "kernelspec": {
   "display_name": "Python 3",
   "language": "python",
   "name": "python3"
  },
  "language_info": {
   "codemirror_mode": {
    "name": "ipython",
    "version": 3
   },
   "file_extension": ".py",
   "mimetype": "text/x-python",
   "name": "python",
   "nbconvert_exporter": "python",
   "pygments_lexer": "ipython3",
   "version": "3.7.3"
  }
 },
 "nbformat": 4,
 "nbformat_minor": 4
}
