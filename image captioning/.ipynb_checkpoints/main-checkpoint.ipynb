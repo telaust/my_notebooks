{
 "cells": [
  {
   "cell_type": "code",
   "execution_count": 14,
   "metadata": {},
   "outputs": [],
   "source": [
    "import torch\n",
    "from torch import nn\n",
    "from torchvision import models\n",
    "from torchvision import datasets as dset"
   ]
  },
  {
   "cell_type": "code",
   "execution_count": 12,
   "metadata": {},
   "outputs": [
    {
     "ename": "TypeError",
     "evalue": "__init__() missing 2 required positional arguments: 'root' and 'ann_file'",
     "output_type": "error",
     "traceback": [
      "\u001b[0;31m---------------------------------------------------------------------------\u001b[0m",
      "\u001b[0;31mTypeError\u001b[0m                                 Traceback (most recent call last)",
      "\u001b[0;32m<ipython-input-12-845aeccfe62d>\u001b[0m in \u001b[0;36m<module>\u001b[0;34m\u001b[0m\n\u001b[0;32m----> 1\u001b[0;31m \u001b[0mdatasets\u001b[0m\u001b[0;34m.\u001b[0m\u001b[0mflickr\u001b[0m\u001b[0;34m.\u001b[0m\u001b[0mFlickr8k\u001b[0m\u001b[0;34m(\u001b[0m\u001b[0;34m)\u001b[0m\u001b[0;34m\u001b[0m\u001b[0;34m\u001b[0m\u001b[0m\n\u001b[0m",
      "\u001b[0;31mTypeError\u001b[0m: __init__() missing 2 required positional arguments: 'root' and 'ann_file'"
     ]
    }
   ],
   "source": [
    "cap = dset.CocoCaptions(root='datasets/')"
   ]
  },
  {
   "cell_type": "code",
   "execution_count": null,
   "metadata": {},
   "outputs": [],
   "source": []
  },
  {
   "cell_type": "code",
   "execution_count": 5,
   "metadata": {},
   "outputs": [],
   "source": [
    "class Encoder(nn.Module):  \n",
    "    def __init__(self, embedding_size=1024):\n",
    "        super(Encoder, self).__init__()\n",
    "        self.pretrained_model = models.densenet121(pretrained=True)\n",
    "        self.pretrained_model.classifier == nn.Linear(in_features=1024, out_features=1024)\n",
    "        self.embedd_fc = nn.Linear(in_features=1024, out_features=embedding_size)        \n",
    "        self.dropout = nn.Dropout(p=0.5)\n",
    "        self.relu = nn.ReLU()\n",
    "        \n",
    "    def forward(self, x):\n",
    "        output = self.dropout(self.relu(self.pretrained_model(x)))        \n",
    "        embeddings = self.embedd_fc(output)\n",
    "        \n",
    "        return embeddings"
   ]
  },
  {
   "cell_type": "code",
   "execution_count": 7,
   "metadata": {},
   "outputs": [],
   "source": [
    "class Decoder(nn.Module):\n",
    "    def __init__(self, embedding_size, hidden_size, vocab_size, n_layers=1):\n",
    "        super(Decoder, self).__init__()\n",
    "        self.embedding_size = embedding_size\n",
    "        self.hidden_size = hidden_size\n",
    "        self.vocab_size = vocab_size\n",
    "        \n",
    "        self.lstm_cell = nn.LSTMCell(input_size=self.embedding_size, hidden_size=self.hidden_size)\n",
    "        self.fc_out = nn.Linear(in_features=self.hidden_size, out_features=self.vocab_size)\n",
    "        self.embedding = nn.Embedding(num_embeddings=self.vocab_size, embedding_dim=self.embedding_size)\n",
    "        \n",
    "        self.softmax = nn.Softmax(dim=1)\n",
    "        \n",
    "    def forward(self, features, captions, device='cpu'):\n",
    "        batch_size = features.size(0)\n",
    "        \n",
    "        hidden_state = torch.zeros((batch_size, self.hidden_size)).to(device)\n",
    "        cell_state = torch.zeros((batch_size, self.hidden_size)).to(device)\n",
    "        \n",
    "        output_placeholder = torch.empty()\n",
    "        \n",
    "        captions_embeddings = self.embedding(captions)\n",
    "        \n",
    "        for t in range(captions.size(1)):\n",
    "            if t == 0:\n",
    "                hidden_state, cell_state = self.lstm_cell(features, (hidden_state, cell_state))\n",
    "            else:\n",
    "                hidden_state, cell_state = self.lstm_cell(captions_embeddings[:, t, :], \n",
    "                                                          (hidden_state, cell_state))\n",
    "            \n",
    "            out_of_fc = self.fc_out(hidden_state)\n",
    "        \n",
    "            outputs[:, t, :] = out_of_fc\n",
    "            \n",
    "        return outputs\n",
    "    "
   ]
  },
  {
   "cell_type": "code",
   "execution_count": null,
   "metadata": {},
   "outputs": [],
   "source": []
  }
 ],
 "metadata": {
  "kernelspec": {
   "display_name": "Python 3",
   "language": "python",
   "name": "python3"
  },
  "language_info": {
   "codemirror_mode": {
    "name": "ipython",
    "version": 3
   },
   "file_extension": ".py",
   "mimetype": "text/x-python",
   "name": "python",
   "nbconvert_exporter": "python",
   "pygments_lexer": "ipython3",
   "version": "3.7.3"
  }
 },
 "nbformat": 4,
 "nbformat_minor": 4
}
