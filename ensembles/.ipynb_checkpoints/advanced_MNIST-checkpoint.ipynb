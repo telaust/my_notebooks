{
 "cells": [
  {
   "cell_type": "code",
   "execution_count": 1,
   "metadata": {},
   "outputs": [],
   "source": [
    "import torch\n",
    "from torch import nn\n",
    "import torch.nn.functional as F\n",
    "import torchvision.datasets as datasets\n",
    "import torchvision.transforms as T\n",
    "from torch.utils.data import DataLoader\n",
    "from torch.optim import Adam\n",
    "\n",
    "import os\n",
    "import matplotlib.pyplot as plt"
   ]
  },
  {
   "cell_type": "code",
   "execution_count": 13,
   "metadata": {},
   "outputs": [],
   "source": [
    "import numpy as np"
   ]
  },
  {
   "cell_type": "code",
   "execution_count": 25,
   "metadata": {},
   "outputs": [
    {
     "data": {
      "text/plain": [
       "tensor([[1, 1, 1]])"
      ]
     },
     "execution_count": 25,
     "metadata": {},
     "output_type": "execute_result"
    }
   ],
   "source": [
    "a = torch.tensor([[[1, 2, 3], [4, 5, 6]]])\n",
    "\n",
    "np.argmax(a, 1)"
   ]
  },
  {
   "cell_type": "code",
   "execution_count": 36,
   "metadata": {},
   "outputs": [
    {
     "name": "stdout",
     "output_type": "stream",
     "text": [
      "torch.Size([1, 2, 3])\n",
      "torch.Size([6])\n"
     ]
    }
   ],
   "source": [
    "print(a.size())\n",
    "print(a.view(-1).size())"
   ]
  },
  {
   "cell_type": "code",
   "execution_count": 9,
   "metadata": {},
   "outputs": [
    {
     "data": {
      "text/plain": [
       "<torch._C.Generator at 0x10f60bd50>"
      ]
     },
     "execution_count": 9,
     "metadata": {},
     "output_type": "execute_result"
    }
   ],
   "source": [
    "SEED = 31\n",
    "torch.manual_seed(SEED)"
   ]
  },
  {
   "cell_type": "code",
   "execution_count": 63,
   "metadata": {},
   "outputs": [],
   "source": [
    "def get_mean_std(loader):\n",
    "    channels_sum, channels_squares_sum,n_batches = 0, 0, 0\n",
    "    for data, _ in loader:\n",
    "        channels_sum += torch.mean(data, dim=[0,2,3])\n",
    "        channels_squares_sum += torch.mean(data**2, dim=[0,2,3])\n",
    "        n_batches += 1\n",
    "    \n",
    "    mean = channels_sum/n_batches\n",
    "    std = (channels_squares_sum/n_batches - mean**2)**0.5\n",
    "\n",
    "    return mean, std"
   ]
  },
  {
   "cell_type": "code",
   "execution_count": 134,
   "metadata": {},
   "outputs": [],
   "source": [
    "def get_accuracy(pred, labels):\n",
    "    output = np.argmax(pred, axis=1)\n",
    "    return np.sum(output == labels) / float(labels.size)"
   ]
  },
  {
   "cell_type": "code",
   "execution_count": 10,
   "metadata": {},
   "outputs": [],
   "source": [
    "class CNN(nn.Module):\n",
    "    def __init__(self, in_channels, n_classes):\n",
    "        super(CNN, self).__init__()\n",
    "        self.conv1 = nn.Conv2d(in_channels=in_channels, out_channels=8,\n",
    "                               kernel_size=(3, 3), stride=(1, 1), padding=(1, 1))\n",
    "        self.pool = nn.MaxPool2d(kernel_size=(2, 2), stride=(2, 2))\n",
    "        self.conv2 = nn.Conv2d(in_channels=8, out_channels=16, kernel_size=(3, 3),\n",
    "                               stride=(1, 1), padding=(1, 1))\n",
    "        self.fc1 = nn.Linear(16 * 7 * 7, n_classes)\n",
    "        \n",
    "    def forward(self, x):\n",
    "        x = F.relu(self.conv1(x))\n",
    "        x = self.pool(x)\n",
    "        x = F.relu(self.conv2(x))\n",
    "        x = self.pool(x)\n",
    "        \n",
    "        x = x.reshape(x.shape[0], -1)\n",
    "        \n",
    "        x = self.fc1(x)\n",
    "        \n",
    "        return x\n",
    "    \n",
    "    def init_weights(self):\n",
    "        for module in self.modules():\n",
    "            # He init on convolution layer\n",
    "            if isinstance(module, nn.Conv2d):\n",
    "                nn.init.kaiming_uniform_(module.weight)\n",
    "                if module.bias is not None:\n",
    "                    nn.init.constant_(modele.bias, 0)\n",
    "                    "
   ]
  },
  {
   "cell_type": "code",
   "execution_count": 11,
   "metadata": {},
   "outputs": [],
   "source": [
    "# set device\n",
    "device = torch.device('cuda' if torch.cuda.is_available() else 'cpu')"
   ]
  },
  {
   "cell_type": "code",
   "execution_count": 124,
   "metadata": {},
   "outputs": [
    {
     "data": {
      "text/plain": [
       "'I have cpu only'"
      ]
     },
     "execution_count": 124,
     "metadata": {},
     "output_type": "execute_result"
    }
   ],
   "source": [
    "f'I have {device.type} only'"
   ]
  },
  {
   "cell_type": "code",
   "execution_count": 12,
   "metadata": {},
   "outputs": [],
   "source": [
    "# гиперпараметры\n",
    "IN_CHANNELS = 1\n",
    "N_CLASSES = 10\n",
    "LR = 1e-2\n",
    "N_EPOCHS = 5\n",
    "BATCH_SIZE = 128"
   ]
  },
  {
   "cell_type": "code",
   "execution_count": 13,
   "metadata": {},
   "outputs": [
    {
     "name": "stdout",
     "output_type": "stream",
     "text": [
      "Downloading http://yann.lecun.com/exdb/mnist/train-images-idx3-ubyte.gz to dataset/MNIST/raw/train-images-idx3-ubyte.gz\n"
     ]
    },
    {
     "data": {
      "application/vnd.jupyter.widget-view+json": {
       "model_id": "cdbc7654c67c492e9f7e1132bbd0202e",
       "version_major": 2,
       "version_minor": 0
      },
      "text/plain": [
       "HBox(children=(IntProgress(value=1, bar_style='info', max=1), HTML(value='')))"
      ]
     },
     "metadata": {},
     "output_type": "display_data"
    },
    {
     "name": "stdout",
     "output_type": "stream",
     "text": [
      "\n",
      "Extracting dataset/MNIST/raw/train-images-idx3-ubyte.gz to dataset/MNIST/raw\n",
      "Downloading http://yann.lecun.com/exdb/mnist/train-labels-idx1-ubyte.gz to dataset/MNIST/raw/train-labels-idx1-ubyte.gz\n"
     ]
    },
    {
     "data": {
      "application/vnd.jupyter.widget-view+json": {
       "model_id": "1deb389739344e449c0cf412b4e223d3",
       "version_major": 2,
       "version_minor": 0
      },
      "text/plain": [
       "HBox(children=(IntProgress(value=1, bar_style='info', max=1), HTML(value='')))"
      ]
     },
     "metadata": {},
     "output_type": "display_data"
    },
    {
     "name": "stdout",
     "output_type": "stream",
     "text": [
      "\n",
      "Extracting dataset/MNIST/raw/train-labels-idx1-ubyte.gz to dataset/MNIST/raw\n",
      "Downloading http://yann.lecun.com/exdb/mnist/t10k-images-idx3-ubyte.gz to dataset/MNIST/raw/t10k-images-idx3-ubyte.gz\n"
     ]
    },
    {
     "data": {
      "application/vnd.jupyter.widget-view+json": {
       "model_id": "f216112736fd44369232f89f77d53d6d",
       "version_major": 2,
       "version_minor": 0
      },
      "text/plain": [
       "HBox(children=(IntProgress(value=1, bar_style='info', max=1), HTML(value='')))"
      ]
     },
     "metadata": {},
     "output_type": "display_data"
    },
    {
     "name": "stdout",
     "output_type": "stream",
     "text": [
      "\n",
      "Extracting dataset/MNIST/raw/t10k-images-idx3-ubyte.gz to dataset/MNIST/raw\n",
      "Downloading http://yann.lecun.com/exdb/mnist/t10k-labels-idx1-ubyte.gz to dataset/MNIST/raw/t10k-labels-idx1-ubyte.gz\n"
     ]
    },
    {
     "data": {
      "application/vnd.jupyter.widget-view+json": {
       "model_id": "f37698a2588b48ce92a02f527075fa0b",
       "version_major": 2,
       "version_minor": 0
      },
      "text/plain": [
       "HBox(children=(IntProgress(value=1, bar_style='info', max=1), HTML(value='')))"
      ]
     },
     "metadata": {},
     "output_type": "display_data"
    },
    {
     "name": "stdout",
     "output_type": "stream",
     "text": [
      "\n",
      "Extracting dataset/MNIST/raw/t10k-labels-idx1-ubyte.gz to dataset/MNIST/raw\n",
      "Processing...\n",
      "Done!\n"
     ]
    }
   ],
   "source": [
    "# load data\n",
    "train_dataset = datasets.MNIST(root='dataset/', train=True, \n",
    "                               transform=T.ToTensor(), download=True)\n",
    "test_dataset = datasets.MNIST(root='dataset/', train=False, \n",
    "                              transform=T.ToTensor(), download=True)"
   ]
  },
  {
   "cell_type": "code",
   "execution_count": null,
   "metadata": {},
   "outputs": [],
   "source": [
    "# calculate sizes of train/valid split\n",
    "len_train = int(len(train_dataset) * 0.9)\n",
    "len_val = int(len(train_dataset) * 0.1)\n",
    "\n",
    "train_dataset, valid_dataset = torch.utils.data.random_split(train_dataset, lengths=[len_train, len_val])"
   ]
  },
  {
   "cell_type": "code",
   "execution_count": 95,
   "metadata": {},
   "outputs": [],
   "source": [
    "train_loader = DataLoader(dataset=train_dataset, batch_size=BATCH_SIZE, shuffle=True)\n",
    "valid_loader = DataLoader(dataset=valid_dataset, batch_size=BATCH_SIZE, shuffle=True)\n",
    "\n",
    "test_loader = DataLoader(dataset=test_dataset, batch_size=BATCH_SIZE, shuffle=False)"
   ]
  },
  {
   "cell_type": "code",
   "execution_count": 97,
   "metadata": {},
   "outputs": [
    {
     "name": "stdout",
     "output_type": "stream",
     "text": [
      "tensor([0.1306])\n",
      "tensor([0.3081])\n",
      "tensor([0.1310])\n",
      "tensor([0.3085])\n",
      "tensor([0.1328])\n",
      "tensor([0.3109])\n"
     ]
    }
   ],
   "source": [
    "mean_train, std_train = get_mean_std(train_loader)\n",
    "mean_valid, std_valid = get_mean_std(valid_loader)\n",
    "\n",
    "mean_test, std_test = get_mean_std(test_loader)"
   ]
  },
  {
   "cell_type": "code",
   "execution_count": 55,
   "metadata": {},
   "outputs": [
    {
     "name": "stdout",
     "output_type": "stream",
     "text": [
      "absolute difference between test and train std is 0.0003\n"
     ]
    }
   ],
   "source": [
    "print(f'absolute difference between test and train std is {abs(std_train - std_test)[0]:.4f}')"
   ]
  },
  {
   "cell_type": "code",
   "execution_count": 53,
   "metadata": {},
   "outputs": [
    {
     "name": "stdout",
     "output_type": "stream",
     "text": [
      "absolute difference between test and train mean is 0.0022\n"
     ]
    }
   ],
   "source": [
    "print(f'absolute difference between test and train mean is {abs(mean_train - mean_test)[0]:.4f}')"
   ]
  },
  {
   "cell_type": "code",
   "execution_count": 98,
   "metadata": {},
   "outputs": [],
   "source": [
    "train_transform = T.Compose([\n",
    "    T.RandomHorizontalFlip(p=0.8),\n",
    "    T.Normalize([mean_train], [std_train]),\n",
    "    T.ToTensor()\n",
    "])\n",
    "\n",
    "test_transform = T.Compose([\n",
    "    T.RandomHorizontalFlip(p=0.8),\n",
    "    T.Normalize([mean_test], [std_test]),\n",
    "    T.ToTensor()\n",
    "])\n",
    "\n",
    "valid_transform = T.Compose([\n",
    "    T.RandomHorizontalFlip(p=0.8),\n",
    "    T.Normalize([mean_valid], [std_valid]),\n",
    "    T.ToTensor()\n",
    "])\n"
   ]
  },
  {
   "cell_type": "code",
   "execution_count": 99,
   "metadata": {},
   "outputs": [],
   "source": [
    "# Инициализация сети\n",
    "model = CNN(in_channels=IN_CHANNELS, n_classes=N_CLASSES).to(device)"
   ]
  },
  {
   "cell_type": "code",
   "execution_count": 100,
   "metadata": {},
   "outputs": [],
   "source": [
    "criterion = nn.CrossEntropyLoss()\n",
    "optimizer = Adam(model.parameters(), LR)"
   ]
  },
  {
   "cell_type": "code",
   "execution_count": 33,
   "metadata": {},
   "outputs": [],
   "source": [
    "def save_checkpoint(state, filename='chkpnt.pth.tar'):\n",
    "    if not os.path.exists(filename):\n",
    "        open('chkpnt.pth.tar', 'a').close()\n",
    "        \n",
    "    print(\"Saving checkpoint..\")\n",
    "    torch.save(state, filename)"
   ]
  },
  {
   "cell_type": "code",
   "execution_count": null,
   "metadata": {},
   "outputs": [],
   "source": [
    "def load_checkpoint(model, checkpoint):\n",
    "    print(\"Loading checkpoint\")\n",
    "    model.load_state_dict(checkpoint['state_dict'])\n",
    "    optimizer.load_state_dict(checkpoint['optimizer'])"
   ]
  },
  {
   "cell_type": "code",
   "execution_count": 108,
   "metadata": {},
   "outputs": [],
   "source": [
    "def train(model, train_loader, valid_loader loss_fn, optimizers, n_epochs):\n",
    "    \n",
    "    for ep in range(n_epochs):\n",
    "        ep_losses = []\n",
    "        \n",
    "#         checkpoint = {'# of epoch': ep, \n",
    "#                       'state_dict': model.state_dict(), \n",
    "#                       'optimizer': optimizer.state_dict()}\n",
    "#         if ep % 2 == 0:\n",
    "#             save_checkpoint(checkpoint)\n",
    "        train_loss = 0\n",
    "        valid_loss = 0\n",
    "        \n",
    "        # ******************** TRAIN ***********************\n",
    "        model.train()\n",
    "        for (batch_idx, sample) in enumerate(train_loader):\n",
    "            optimizer.zero_grad()\n",
    "            \n",
    "            inputs, targets = sample\n",
    "            \n",
    "            inputs = inputs.to(device)  \n",
    "            targets = targets.to(device)\n",
    "            \n",
    "            scores = model(inputs)\n",
    "            loss = loss_fn(scores, targets)\n",
    "            \n",
    "            ep_losses.append(loss.item())\n",
    "            \n",
    "            loss.backward()\n",
    "            optimizer.step()\n",
    "            \n",
    "            # tracking train loss\n",
    "            train_loss += loss.data.item() * inputs.size(0)\n",
    "            \n",
    "        train_loss /= len(train_loader.dataset)\n",
    "        \n",
    "        # ******************** VALIDATE ********************    \n",
    "        \n",
    "        model.eval()\n",
    "        for (batch_idx, sample) in enumerate(valid_loader):\n",
    "            optimizer.zero_grad()\n",
    "            \n",
    "            inputs, targets = sample\n",
    "            \n",
    "            with torch.set_grad_enabled(False):\n",
    "                \n",
    "                inputs = inputs.to(device)  \n",
    "                targets = targets.to(device)\n",
    "            \n",
    "                scores = model(inputs)\n",
    "                loss = loss_fn(scores, targets)\n",
    "            \n",
    "                # tracking validation loss\n",
    "                valid_loss += loss.data.item() * inputs.size(0)\n",
    "            \n",
    "            \n",
    "        valid_loss /= len(valid_loader.dataset)\n",
    "            \n",
    "        mean_loss = sum(ep_losses)/len(ep_losses)\n",
    "        \n",
    "        print(f\"epoch #{ep+1}; train loss = {train_loss}; valid loss = {valid_loss}\")\n",
    "\n",
    "    # return loss list for tracking loss history\n",
    "    return ep_losses"
   ]
  },
  {
   "cell_type": "code",
   "execution_count": 109,
   "metadata": {},
   "outputs": [
    {
     "name": "stdout",
     "output_type": "stream",
     "text": [
      "epoch #0; train loss = 0.04546633431039475; valid loss = 0.0479094663610061\n",
      "epoch #1; train loss = 0.041925590220976756; valid loss = 0.040075579069554806\n",
      "epoch #2; train loss = 0.03617035238334426; valid loss = 0.03696917590002219\n"
     ]
    }
   ],
   "source": [
    "losses = train(model, train_loader, criterion, optimizer, n_epochs=3)"
   ]
  },
  {
   "cell_type": "code",
   "execution_count": 118,
   "metadata": {},
   "outputs": [],
   "source": [
    "def check_accuracy_on_test(model, test_loader):\n",
    "    # переключаем модель в режим eval\n",
    "    model.eval()\n",
    "    # не распространяем градиент по сети\n",
    "    with torch.no_grad():\n",
    "        # это для подсчета точности\n",
    "        correct = 0\n",
    "        total = 0\n",
    "    \n",
    "        for (inputs, targets) in test_loader:\n",
    "            outputs = model(inputs)\n",
    "            # берем максимальную вероятность по первой оси\n",
    "            _, predicted = torch.max(outputs.data, 1)\n",
    "            total +=  targets.size(0)\n",
    "        \n",
    "            correct += (predicted == targets).sum().item()\n",
    "        # какая точность?    \n",
    "        print(f\"test accuracy: {100 * correct / total}\")\n",
    "\n",
    "def check_accuracy_on_validation(model, valid_loader):\n",
    "    # переключаем модель в режим eval\n",
    "    model.eval()\n",
    "    # не распространяем градиент по сети\n",
    "    with torch.no_grad():\n",
    "        # это для подсчета точности\n",
    "        correct = 0\n",
    "        total = 0\n",
    "    \n",
    "        for (inputs, targets) in valid_loader:\n",
    "            outputs = model(inputs)\n",
    "            # берем максимальную вероятность по первой оси\n",
    "            _, predicted = torch.max(outputs.data, 1)\n",
    "            total +=  targets.size(0)\n",
    "        \n",
    "            correct += (predicted == targets).sum().item()\n",
    "        # какая точность?    \n",
    "        print(f\"validation accuracy: {100 * correct / total}\")"
   ]
  },
  {
   "cell_type": "code",
   "execution_count": 111,
   "metadata": {},
   "outputs": [
    {
     "data": {
      "image/png": "[encoded data removed]",
      "text/plain": [
       "<Figure size 432x288 with 1 Axes>"
      ]
     },
     "metadata": {
      "needs_background": "light"
     },
     "output_type": "display_data"
    }
   ],
   "source": [
    "# PLOT LOSS HISTORY\n",
    "plt.title(\"Loss history\")\n",
    "plt.plot(losses)\n",
    "# plt.plot()\n",
    "plt.show()"
   ]
  },
  {
   "cell_type": "code",
   "execution_count": 112,
   "metadata": {},
   "outputs": [
    {
     "name": "stdout",
     "output_type": "stream",
     "text": [
      "test accuracy: 98.53\n"
     ]
    }
   ],
   "source": [
    "check_accuracy_on_test(model, test_loader)"
   ]
  },
  {
   "cell_type": "code",
   "execution_count": 119,
   "metadata": {},
   "outputs": [
    {
     "name": "stdout",
     "output_type": "stream",
     "text": [
      "validation accuracy: 99.45\n"
     ]
    }
   ],
   "source": [
    "check_accuracy_on_validation(model, valid_loader)"
   ]
  },
  {
   "cell_type": "code",
   "execution_count": null,
   "metadata": {},
   "outputs": [],
   "source": []
  },
  {
   "cell_type": "code",
   "execution_count": null,
   "metadata": {},
   "outputs": [],
   "source": []
  },
  {
   "cell_type": "code",
   "execution_count": 125,
   "metadata": {},
   "outputs": [],
   "source": [
    "x = torch.randn((5,5))"
   ]
  },
  {
   "cell_type": "code",
   "execution_count": 131,
   "metadata": {},
   "outputs": [
    {
     "data": {
      "text/plain": [
       "tensor(2.9089)"
      ]
     },
     "execution_count": 131,
     "metadata": {},
     "output_type": "execute_result"
    }
   ],
   "source": [
    "torch.einsum('ii->',x)"
   ]
  },
  {
   "cell_type": "code",
   "execution_count": 132,
   "metadata": {},
   "outputs": [
    {
     "data": {
      "text/plain": [
       "tensor([[ 1.4056,  1.1137,  0.6745,  1.2251, -0.5280],\n",
       "        [-0.5695, -0.3378, -1.2487,  1.1138,  0.2283],\n",
       "        [-1.0693,  1.6732,  1.3258,  0.2044,  0.6460],\n",
       "        [-1.4471, -0.3422, -0.7050,  1.5649, -0.3184],\n",
       "        [ 0.2790,  0.0969, -0.3661,  0.0637, -1.0496]])"
      ]
     },
     "execution_count": 132,
     "metadata": {},
     "output_type": "execute_result"
    }
   ],
   "source": [
    "torch.cuda.manual_seed_all(42)\n"
   ]
  },
  {
   "cell_type": "code",
   "execution_count": null,
   "metadata": {},
   "outputs": [],
   "source": []
  }
 ],
 "metadata": {
  "kernelspec": {
   "display_name": "Python 3",
   "language": "python",
   "name": "python3"
  },
  "language_info": {
   "codemirror_mode": {
    "name": "ipython",
    "version": 3
   },
   "file_extension": ".py",
   "mimetype": "text/x-python",
   "name": "python",
   "nbconvert_exporter": "python",
   "pygments_lexer": "ipython3",
   "version": "3.7.3"
  }
 },
 "nbformat": 4,
 "nbformat_minor": 4
}
