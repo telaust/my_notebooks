{
 "cells": [
  {
   "cell_type": "code",
   "execution_count": 1,
   "metadata": {},
   "outputs": [],
   "source": [
    "def entropy(tests,num):\n",
    "    import math\n",
    "    def log2(x): \n",
    "        return math.log(x)/math.log(2)\n",
    "    neg = float(len(filter(lambda x:(x[num]==0),tests)))\n",
    "    tot = float(len(tests))\n",
    "    if ((neg==tot) or (neg==0)): \n",
    "        return 0\n",
    "    return -(neg/tot)*log2(neg/tot)-((tot-neg)/tot)*log2(tot-neg)"
   ]
  },
  {
   "cell_type": "code",
   "execution_count": 14,
   "metadata": {},
   "outputs": [],
   "source": [
    "def gain(tests,attrnum,num):\n",
    "    res = 0\n",
    "    for i in range(2):\n",
    "        arr = filter(lambda x:(x[attrnum]==i),tests)\n",
    "        res += entropy(arr,num)*len(arr)/float(len(tests))\n",
    "    return entropy(tests,num)-res"
   ]
  },
  {
   "cell_type": "code",
   "execution_count": 15,
   "metadata": {},
   "outputs": [],
   "source": [
    "def ID3(tests,num,f,tabnum,usedattr,attrnames,attr):\n",
    "    def findgains(x):\n",
    "        if usedattr[x]: return 0\n",
    "        return gain(tests,x,num)\n",
    "    if (len(tests)==0):\n",
    "        f.write('\\t'*tabnum+'1')\n",
    "        return\n",
    "    if len(filter(lambda x:(x[num]==0),tests))>len(filter(lambda x:(x[num]==1),tests)):\n",
    "        majority = '0'\n",
    "    else: majority = '1'\n",
    "\n",
    "    gains = map(findgains,range(len(tests[0])))\n",
    "    maxgain = gains.index(max(gains))\n",
    "    if (gains[maxgain]==0):\n",
    "        f.write('\\t'*tabnum+majority+'\\n')\n",
    "        return\n",
    "    arrpos=filter(lambda x:(x[maxgain]==1),tests)\n",
    "    arrneg=filter(lambda x:(x[maxgain]==0),tests)\n",
    "    newusedattr=usedattr\n",
    "    newusedattr[maxgain]=True\n",
    "    f.write('\\t'*tabnum+attrnames[maxgain]+'='+attr[attrnames[maxgain]][1]+'\\n')\n",
    "    if (len(arrpos)==0):\n",
    "        f.write('\\t'*(tabnum+1)+majority+'\\n')\n",
    "    else:\n",
    "        ID3(arrpos,num,f,tabnum+1,newusedattr,attrnames,attr)\n",
    "        f.write('\\t'*tabnum+attrnames[maxgain]+'='+attr[attrnames[maxgain]][2]+'\\n')\n",
    "    if (len(arrneg)==0):\n",
    "        f.write('\\t'*(tabnum+1)+majority+'\\n')\n",
    "    else:\n",
    "        ID3(arrneg,num,f,tabnum+1,newusedattr,attrnames,attr)"
   ]
  },
  {
   "cell_type": "code",
   "execution_count": 16,
   "metadata": {},
   "outputs": [],
   "source": [
    "def applyID3(infname,outfname):\n",
    "    bigarr = ParseAttributes(infname)\n",
    "    attrnum,attrnames,attr,tests,num = bigarr[0],bigarr[1],bigarr[2],bigarr[3],bigarr[4]\n",
    "    f = open(outfname,'w')\n",
    "    usedattr=[]\n",
    "    for i in range(attrnum): usedattr.append(i==num)\n",
    "    ID3(tests,attrnum-1,f,0,usedattr,attrnames,attr)"
   ]
  },
  {
   "cell_type": "code",
   "execution_count": 17,
   "metadata": {},
   "outputs": [],
   "source": [
    "def ParseAttributes(infname):\n",
    "    f = open(infname,'r')\n",
    "    attr,attrnames,tests = {},[],[]\n",
    "    attrnum = int(f.readline())\n",
    "    for i in range(attrnum):\n",
    "        fWords = f.readline().split()\n",
    "        attrnames.append(fWords[0])\n",
    "        attr[fWords[0]] = [i,fWords[1],fWords[2]]\n",
    "        attr[fWords[1]] = 1\n",
    "        attr[fWords[2]] = 0\n",
    "    num = attr[f.readline().strip()][0]\n",
    "    testnum = int(f.readline())\n",
    "    for i in range(testnum):\n",
    "        fWords = f.readline().split()\n",
    "        \n",
    "    test = []\n",
    "    for j in range(attrnum): test.append(0)\n",
    "    for j in range(attrnum):\n",
    "        attrib = fWords[j][:fWords[j].find('=')]\n",
    "    value = fWords[j][fWords[j].find('=')+1:len(fWords[j])]\n",
    "    test[ attr[attrib][0] ] = attr[value]\n",
    "    tests.append(test)\n",
    "    f.close()\n",
    "    return [attrnum,attrnames,attr,tests,num]"
   ]
  },
  {
   "cell_type": "code",
   "execution_count": 18,
   "metadata": {},
   "outputs": [
    {
     "ename": "TypeError",
     "evalue": "object of type 'filter' has no len()",
     "output_type": "error",
     "traceback": [
      "\u001b[0;31m---------------------------------------------------------------------------\u001b[0m",
      "\u001b[0;31mTypeError\u001b[0m                                 Traceback (most recent call last)",
      "\u001b[0;32m<ipython-input-18-2657f3ff14de>\u001b[0m in \u001b[0;36m<module>\u001b[0;34m\u001b[0m\n\u001b[0;32m----> 1\u001b[0;31m \u001b[0mapplyID3\u001b[0m\u001b[0;34m(\u001b[0m\u001b[0;34m'in.txt'\u001b[0m\u001b[0;34m,\u001b[0m \u001b[0;34m'out.txt'\u001b[0m\u001b[0;34m)\u001b[0m\u001b[0;34m\u001b[0m\u001b[0;34m\u001b[0m\u001b[0m\n\u001b[0m",
      "\u001b[0;32m<ipython-input-16-86bb8ac66bb3>\u001b[0m in \u001b[0;36mapplyID3\u001b[0;34m(infname, outfname)\u001b[0m\n\u001b[1;32m      5\u001b[0m     \u001b[0musedattr\u001b[0m\u001b[0;34m=\u001b[0m\u001b[0;34m[\u001b[0m\u001b[0;34m]\u001b[0m\u001b[0;34m\u001b[0m\u001b[0;34m\u001b[0m\u001b[0m\n\u001b[1;32m      6\u001b[0m     \u001b[0;32mfor\u001b[0m \u001b[0mi\u001b[0m \u001b[0;32min\u001b[0m \u001b[0mrange\u001b[0m\u001b[0;34m(\u001b[0m\u001b[0mattrnum\u001b[0m\u001b[0;34m)\u001b[0m\u001b[0;34m:\u001b[0m \u001b[0musedattr\u001b[0m\u001b[0;34m.\u001b[0m\u001b[0mappend\u001b[0m\u001b[0;34m(\u001b[0m\u001b[0mi\u001b[0m\u001b[0;34m==\u001b[0m\u001b[0mnum\u001b[0m\u001b[0;34m)\u001b[0m\u001b[0;34m\u001b[0m\u001b[0;34m\u001b[0m\u001b[0m\n\u001b[0;32m----> 7\u001b[0;31m     \u001b[0mID3\u001b[0m\u001b[0;34m(\u001b[0m\u001b[0mtests\u001b[0m\u001b[0;34m,\u001b[0m\u001b[0mattrnum\u001b[0m\u001b[0;34m-\u001b[0m\u001b[0;36m1\u001b[0m\u001b[0;34m,\u001b[0m\u001b[0mf\u001b[0m\u001b[0;34m,\u001b[0m\u001b[0;36m0\u001b[0m\u001b[0;34m,\u001b[0m\u001b[0musedattr\u001b[0m\u001b[0;34m,\u001b[0m\u001b[0mattrnames\u001b[0m\u001b[0;34m,\u001b[0m\u001b[0mattr\u001b[0m\u001b[0;34m)\u001b[0m\u001b[0;34m\u001b[0m\u001b[0;34m\u001b[0m\u001b[0m\n\u001b[0m",
      "\u001b[0;32m<ipython-input-15-4cfa0046aba6>\u001b[0m in \u001b[0;36mID3\u001b[0;34m(tests, num, f, tabnum, usedattr, attrnames, attr)\u001b[0m\n\u001b[1;32m      6\u001b[0m         \u001b[0mf\u001b[0m\u001b[0;34m.\u001b[0m\u001b[0mwrite\u001b[0m\u001b[0;34m(\u001b[0m\u001b[0;34m'\\t'\u001b[0m\u001b[0;34m*\u001b[0m\u001b[0mtabnum\u001b[0m\u001b[0;34m+\u001b[0m\u001b[0;34m'1'\u001b[0m\u001b[0;34m)\u001b[0m\u001b[0;34m\u001b[0m\u001b[0;34m\u001b[0m\u001b[0m\n\u001b[1;32m      7\u001b[0m         \u001b[0;32mreturn\u001b[0m\u001b[0;34m\u001b[0m\u001b[0;34m\u001b[0m\u001b[0m\n\u001b[0;32m----> 8\u001b[0;31m     \u001b[0;32mif\u001b[0m \u001b[0mlen\u001b[0m\u001b[0;34m(\u001b[0m\u001b[0mfilter\u001b[0m\u001b[0;34m(\u001b[0m\u001b[0;32mlambda\u001b[0m \u001b[0mx\u001b[0m\u001b[0;34m:\u001b[0m\u001b[0;34m(\u001b[0m\u001b[0mx\u001b[0m\u001b[0;34m[\u001b[0m\u001b[0mnum\u001b[0m\u001b[0;34m]\u001b[0m\u001b[0;34m==\u001b[0m\u001b[0;36m0\u001b[0m\u001b[0;34m)\u001b[0m\u001b[0;34m,\u001b[0m\u001b[0mtests\u001b[0m\u001b[0;34m)\u001b[0m\u001b[0;34m)\u001b[0m\u001b[0;34m>\u001b[0m\u001b[0mlen\u001b[0m\u001b[0;34m(\u001b[0m\u001b[0mfilter\u001b[0m\u001b[0;34m(\u001b[0m\u001b[0;32mlambda\u001b[0m \u001b[0mx\u001b[0m\u001b[0;34m:\u001b[0m\u001b[0;34m(\u001b[0m\u001b[0mx\u001b[0m\u001b[0;34m[\u001b[0m\u001b[0mnum\u001b[0m\u001b[0;34m]\u001b[0m\u001b[0;34m==\u001b[0m\u001b[0;36m1\u001b[0m\u001b[0;34m)\u001b[0m\u001b[0;34m,\u001b[0m\u001b[0mtests\u001b[0m\u001b[0;34m)\u001b[0m\u001b[0;34m)\u001b[0m\u001b[0;34m:\u001b[0m\u001b[0;34m\u001b[0m\u001b[0;34m\u001b[0m\u001b[0m\n\u001b[0m\u001b[1;32m      9\u001b[0m         \u001b[0mmajority\u001b[0m \u001b[0;34m=\u001b[0m \u001b[0;34m'0'\u001b[0m\u001b[0;34m\u001b[0m\u001b[0;34m\u001b[0m\u001b[0m\n\u001b[1;32m     10\u001b[0m     \u001b[0;32melse\u001b[0m\u001b[0;34m:\u001b[0m \u001b[0mmajority\u001b[0m \u001b[0;34m=\u001b[0m \u001b[0;34m'1'\u001b[0m\u001b[0;34m\u001b[0m\u001b[0;34m\u001b[0m\u001b[0m\n",
      "\u001b[0;31mTypeError\u001b[0m: object of type 'filter' has no len()"
     ]
    }
   ],
   "source": [
    "applyID3('in.txt', 'out.txt')"
   ]
  },
  {
   "cell_type": "code",
   "execution_count": null,
   "metadata": {},
   "outputs": [],
   "source": []
  }
 ],
 "metadata": {
  "kernelspec": {
   "display_name": "Python 3",
   "language": "python",
   "name": "python3"
  },
  "language_info": {
   "codemirror_mode": {
    "name": "ipython",
    "version": 3
   },
   "file_extension": ".py",
   "mimetype": "text/x-python",
   "name": "python",
   "nbconvert_exporter": "python",
   "pygments_lexer": "ipython3",
   "version": "3.7.3"
  }
 },
 "nbformat": 4,
 "nbformat_minor": 4
}
