{
 "cells": [
  {
   "cell_type": "code",
   "execution_count": 13,
   "metadata": {},
   "outputs": [],
   "source": [
    "import torch \n",
    "from torch import nn\n",
    "from torch import optim\n",
    "import matplotlib.pyplot as plt\n",
    "import numpy as np\n",
    "import requests\n",
    "import pprint\n",
    "from bs4 import BeautifulSoup\n",
    "import re\n",
    "import string"
   ]
  },
  {
   "cell_type": "code",
   "execution_count": 14,
   "metadata": {},
   "outputs": [],
   "source": [
    "all_letters = string.ascii_lowercase\n",
    "n_letters = len(all_letters)"
   ]
  },
  {
   "cell_type": "code",
   "execution_count": 20,
   "metadata": {},
   "outputs": [],
   "source": [
    "def read_words(infile):\n",
    "    with open(infile) as file:\n",
    "        lines = file.readlines()\n",
    "        \n",
    "    return [line.replace('\\n', '') for line in lines] "
   ]
  },
  {
   "cell_type": "code",
   "execution_count": 21,
   "metadata": {},
   "outputs": [
    {
     "data": {
      "text/plain": [
       "['france', 'wikip', 'document', 'documentelement']"
      ]
     },
     "execution_count": 21,
     "metadata": {},
     "output_type": "execute_result"
    }
   ],
   "source": [
    "read_words(\"data/french_words.txt\")[:4]"
   ]
  },
  {
   "cell_type": "code",
   "execution_count": 85,
   "metadata": {},
   "outputs": [],
   "source": [
    "all_langs = ['english', 'spanish', 'croatian', 'french', 'german', 'polish', 'italian']\n",
    "category_words = {}\n",
    "n_langs = len(all_langs)"
   ]
  },
  {
   "cell_type": "code",
   "execution_count": 86,
   "metadata": {},
   "outputs": [],
   "source": [
    "# read some data\n",
    "en_read = read_words(\"data/english_words.txt\")\n",
    "sp_read = read_words(\"data/spanish_words.txt\")\n",
    "cr_read = read_words(\"data/croatian_words.txt\")\n",
    "fr_read = read_words(\"data/french_words.txt\")\n",
    "ge_read = read_words(\"data/german_words.txt\")\n",
    "po_read = read_words(\"data/polish_words.txt\")\n",
    "it_read = read_words(\"data/italian_words.txt\")\n"
   ]
  },
  {
   "cell_type": "code",
   "execution_count": 87,
   "metadata": {},
   "outputs": [],
   "source": [
    "# define language categories\n",
    "category_words['english'] = en_read\n",
    "category_words['spanish'] = sp_read\n",
    "category_words['croatian'] = cr_read\n",
    "category_words['french'] = fr_read\n",
    "category_words['german'] = ge_read\n",
    "category_words['polish'] = po_read\n",
    "category_words['italian'] = it_read"
   ]
  },
  {
   "cell_type": "code",
   "execution_count": 88,
   "metadata": {},
   "outputs": [],
   "source": [
    "# words to tensor\n",
    "\n",
    "def letter_to_index(letter):\n",
    "    return all_letters.index(letter)"
   ]
  },
  {
   "cell_type": "code",
   "execution_count": 89,
   "metadata": {},
   "outputs": [],
   "source": [
    "def word_to_tensor(word):\n",
    "    tensor = torch.zeros(len(word), 1, len(all_letters))\n",
    "    for i, letter in enumerate(word):\n",
    "        tensor[i][0][letter_to_index(letter)] = 1\n",
    "    return tensor"
   ]
  },
  {
   "cell_type": "code",
   "execution_count": 90,
   "metadata": {},
   "outputs": [
    {
     "data": {
      "text/plain": [
       "torch.Size([5, 1, 26])"
      ]
     },
     "execution_count": 90,
     "metadata": {},
     "output_type": "execute_result"
    }
   ],
   "source": [
    "word_to_tensor(\"hello\").size()"
   ]
  },
  {
   "cell_type": "code",
   "execution_count": 91,
   "metadata": {},
   "outputs": [],
   "source": [
    "class RNN(nn.Module):\n",
    "    \n",
    "    def __init__(self, input_size, hidden_size, output_size):\n",
    "        super(RNN, self).__init__()\n",
    "        \n",
    "        self.hidden_size = hidden_size\n",
    "        \n",
    "        self.i2h = nn.Linear(input_size + hidden_size, hidden_size)\n",
    "        self.i2o = nn.Linear(input_size + hidden_size, output_size)\n",
    "        \n",
    "        self.soft = nn.LogSoftmax(dim=1)\n",
    "        \n",
    "    def forward(self, input, hidden):\n",
    "        \n",
    "        combined = torch.cat((input, hidden), 1)\n",
    "        hidden = self.i2h(combined)\n",
    "        output = self.soft(self.i2o(combined))\n",
    "        \n",
    "        return output, hidden\n",
    "    \n",
    "    def init_hidden(self):\n",
    "        return torch.zeros(1, self.hidden_size)"
   ]
  },
  {
   "cell_type": "code",
   "execution_count": 92,
   "metadata": {},
   "outputs": [],
   "source": [
    "n_hidden = 128\n",
    "\n",
    "net = RNN(n_letters, n_hidden, len(all_langs))"
   ]
  },
  {
   "cell_type": "code",
   "execution_count": 93,
   "metadata": {},
   "outputs": [],
   "source": [
    "\n",
    "def most_possible(output):\n",
    "    top_cat, top_ind = torch.Tensor.topk(output, 1)\n",
    "    cat_i = top_ind[0].item()\n",
    "    \n",
    "    return all_langs[cat_i], cat_i"
   ]
  },
  {
   "cell_type": "code",
   "execution_count": 94,
   "metadata": {},
   "outputs": [],
   "source": [
    "criterion = nn.CrossEntropyLoss()"
   ]
  },
  {
   "cell_type": "code",
   "execution_count": 95,
   "metadata": {},
   "outputs": [],
   "source": [
    "import random\n",
    "\n",
    "def randomChoice(l):\n",
    "    return l[random.randint(0, len(l)-1)]\n",
    "\n",
    "def randomTrainingExample():\n",
    "    category = randomChoice(all_langs)\n",
    "    \n",
    "    word = randomChoice(category_words[category])\n",
    "    category_tensor = torch.tensor([all_langs.index(category)], dtype=torch.long)\n",
    "    \n",
    "    word_tensor = word_to_tensor(word)\n",
    "    \n",
    "    return category, word, category_tensor, word_tensor"
   ]
  },
  {
   "cell_type": "code",
   "execution_count": null,
   "metadata": {},
   "outputs": [],
   "source": []
  },
  {
   "cell_type": "code",
   "execution_count": 96,
   "metadata": {},
   "outputs": [],
   "source": [
    "lr = 0.001\n",
    "\n",
    "def train(category_tensor, word_tensor, lr):\n",
    "    \n",
    "    hidden = net.init_hidden()\n",
    "    \n",
    "    net.zero_grad()\n",
    "    \n",
    "    for i in range(word_tensor.size(0)):\n",
    "        output, hidden = net(word_tensor[i], hidden)\n",
    "        \n",
    "    loss = criterion(output, category_tensor)\n",
    "    \n",
    "    loss.backward()\n",
    "    \n",
    "    for p in net.parameters():\n",
    "        p.data.add_(-lr, p.grad.data)\n",
    "        \n",
    "    return output, loss.item()"
   ]
  },
  {
   "cell_type": "code",
   "execution_count": 101,
   "metadata": {},
   "outputs": [],
   "source": [
    "n_epoches = 1000\n",
    "losses = []\n",
    "\n",
    "for ep in range(n_epoches):\n",
    "    cat, word, cat_tensor, word_tensor = randomTrainingExample()\n",
    "    out, loss = train(cat_tensor, word_tensor, lr)\n",
    "    \n",
    "    losses.append(loss)"
   ]
  },
  {
   "cell_type": "code",
   "execution_count": null,
   "metadata": {},
   "outputs": [],
   "source": []
  },
  {
   "cell_type": "code",
   "execution_count": 102,
   "metadata": {},
   "outputs": [],
   "source": [
    "# Just return an output given a word\n",
    "def evaluate(word_tensor):\n",
    "    hidden = net.init_hidden()\n",
    "\n",
    "    for i in range(word_tensor.size(0)):\n",
    "        output, hidden = net(word_tensor[i], hidden)\n",
    "\n",
    "    return output"
   ]
  },
  {
   "cell_type": "code",
   "execution_count": 103,
   "metadata": {},
   "outputs": [],
   "source": [
    "def predict(input_word, n_predictions=2):\n",
    "    input_word = input_word.lower() # to lowercase\n",
    "    \n",
    "    print('\\n> %s' % input_word)\n",
    "    \n",
    "    with torch.no_grad():\n",
    "        output = evaluate(word_to_tensor(input_word))\n",
    "        \n",
    "        # get top\n",
    "        topv, topi = output.topk(n_predictions, 1, True)\n",
    "        predictions = []\n",
    "    \n",
    "        for i in range(n_predictions):\n",
    "            value = topv[0][i].item()\n",
    "            category_index = topi[0][i].item()\n",
    "            print('(%.2f) %s' % (value, all_langs[category_index]))\n",
    "            predictions.append([value, all_langs[category_index]])"
   ]
  },
  {
   "cell_type": "code",
   "execution_count": 113,
   "metadata": {},
   "outputs": [
    {
     "name": "stdout",
     "output_type": "stream",
     "text": [
      "\n",
      "> english\n",
      "(-1.84) italian\n",
      "(-1.88) croatian\n",
      "(-1.94) french\n",
      "(-1.96) english\n",
      "(-1.96) polish\n"
     ]
    }
   ],
   "source": [
    "predict(\"english\", n_predictions=5)"
   ]
  },
  {
   "cell_type": "code",
   "execution_count": 109,
   "metadata": {},
   "outputs": [
    {
     "data": {
      "text/plain": [
       "11122"
      ]
     },
     "execution_count": 109,
     "metadata": {},
     "output_type": "execute_result"
    }
   ],
   "source": [
    "len(en_read)"
   ]
  },
  {
   "cell_type": "code",
   "execution_count": 114,
   "metadata": {},
   "outputs": [
    {
     "data": {
      "text/plain": [
       "17225"
      ]
     },
     "execution_count": 114,
     "metadata": {},
     "output_type": "execute_result"
    }
   ],
   "source": [
    "len(it_read)"
   ]
  },
  {
   "cell_type": "code",
   "execution_count": null,
   "metadata": {},
   "outputs": [],
   "source": []
  }
 ],
 "metadata": {
  "kernelspec": {
   "display_name": "Python 3",
   "language": "python",
   "name": "python3"
  },
  "language_info": {
   "codemirror_mode": {
    "name": "ipython",
    "version": 3
   },
   "file_extension": ".py",
   "mimetype": "text/x-python",
   "name": "python",
   "nbconvert_exporter": "python",
   "pygments_lexer": "ipython3",
   "version": "3.7.3"
  }
 },
 "nbformat": 4,
 "nbformat_minor": 4
}
