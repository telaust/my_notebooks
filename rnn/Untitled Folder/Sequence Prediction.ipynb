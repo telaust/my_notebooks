{
 "cells": [
  {
   "cell_type": "code",
   "execution_count": 3,
   "metadata": {},
   "outputs": [],
   "source": [
    "import torch\n",
    "import torch.nn.functional as F\n",
    "import torch.nn as nn\n",
    "import torchvision\n",
    "import numpy as np\n",
    "import matplotlib.pyplot as plt\n",
    "from torch import optim"
   ]
  },
  {
   "cell_type": "code",
   "execution_count": null,
   "metadata": {},
   "outputs": [],
   "source": []
  },
  {
   "cell_type": "code",
   "execution_count": null,
   "metadata": {},
   "outputs": [],
   "source": []
  },
  {
   "cell_type": "code",
   "execution_count": 2,
   "metadata": {},
   "outputs": [],
   "source": [
    "class rnn(nn.Module):\n",
    "    \n",
    "    def __init__(self):\n",
    "        \n",
    "        super(rnn, self).__init__()\n",
    "        \n",
    "        self.lstm1 = nn.LSTMCell(1, 51)\n",
    "        self.lstm2 = nn.LSTMCell(51, 51)\n",
    "        self.fc = nn.Linear(51, 1)\n",
    "        \n",
    "    def forward(self, x, future=0):\n",
    "        outputs = []\n",
    "        \n",
    "        # zero initialization\n",
    "        h_t = torch.zeros(x.size(0), 51, dtype = torch.double)\n",
    "        c_t = torch.zeros(x.size(0), 51, dtype = torch.double)\n",
    "        h_t2 = torch.zeros(x.size(0), 51, dtype = torch.double)\n",
    "        c_t2 = torch.zeros(x.size(0), 51, dtype = torch.double)\n",
    "        \n",
    "        for i, h_t in enumerate(x.chunk(x.size(0))):\n",
    "            h_t, c_t = self.lstm1(x, (h_t, c_t))\n",
    "            h_t2, c_t2 = self.lstm2(h_t, (h_t2, c_t2))\n",
    "            out = self.fc(h_t2)\n",
    "            \n",
    "            outputs.append(out)\n",
    "            \n",
    "        # for future prediction\n",
    "        for i in range(future):\n",
    "            h_t, c_t = self.lstm1(out, (h_t, c_t))\n",
    "            h_t2, c_t2 = self.lstm2(h_t, (h_t2, c_t2))\n",
    "            pred = self.fc(h_t2)\n",
    "            \n",
    "            outputs.append(pred)\n",
    "            \n",
    "        outputs = torch.stack(outputs, 1).squeeze(2)\n",
    "        \n",
    "        return outputs"
   ]
  },
  {
   "cell_type": "code",
   "execution_count": 6,
   "metadata": {},
   "outputs": [],
   "source": [
    "inputs = [torch.randn(1, 3) for _ in range(5)]"
   ]
  },
  {
   "cell_type": "code",
   "execution_count": 7,
   "metadata": {},
   "outputs": [
    {
     "data": {
      "text/plain": [
       "[tensor([[-1.1696,  0.5191, -0.6949]]),\n",
       " tensor([[-0.1844, -0.3195, -0.2793]]),\n",
       " tensor([[ 0.4346,  0.2889, -0.5187]]),\n",
       " tensor([[0.6234, 1.3628, 1.1370]]),\n",
       " tensor([[-0.2190, -0.5818,  1.7597]])]"
      ]
     },
     "execution_count": 7,
     "metadata": {},
     "output_type": "execute_result"
    }
   ],
   "source": [
    "inputs"
   ]
  },
  {
   "cell_type": "code",
   "execution_count": 8,
   "metadata": {},
   "outputs": [],
   "source": [
    "hidden = (torch.randn(1, 1, 3),\n",
    "          torch.randn(1, 1, 3))\n",
    "\n",
    "lstm = nn.LSTM(3, 3)\n",
    "\n",
    "for i in inputs:\n",
    "        out, hidden = lstm(i.view(1, 1, -1), hidden)"
   ]
  },
  {
   "cell_type": "code",
   "execution_count": 9,
   "metadata": {},
   "outputs": [
    {
     "data": {
      "text/plain": [
       "tensor([[[-0.0563,  0.2581,  0.0826]]], grad_fn=<StackBackward>)"
      ]
     },
     "execution_count": 9,
     "metadata": {},
     "output_type": "execute_result"
    }
   ],
   "source": [
    "out"
   ]
  },
  {
   "cell_type": "code",
   "execution_count": null,
   "metadata": {},
   "outputs": [],
   "source": []
  }
 ],
 "metadata": {
  "kernelspec": {
   "display_name": "Python 3",
   "language": "python",
   "name": "python3"
  },
  "language_info": {
   "codemirror_mode": {
    "name": "ipython",
    "version": 3
   },
   "file_extension": ".py",
   "mimetype": "text/x-python",
   "name": "python",
   "nbconvert_exporter": "python",
   "pygments_lexer": "ipython3",
   "version": "3.7.3"
  }
 },
 "nbformat": 4,
 "nbformat_minor": 4
}
