{
 "cells": [
  {
   "cell_type": "code",
   "execution_count": 329,
   "metadata": {},
   "outputs": [],
   "source": [
    "\"\"\" In this notebook I use GridSearch and RandomSearch for tuning hyperparams of CNN-model \"\"\"\n",
    "\n",
    "import os\n",
    "import matplotlib.pyplot as plt\n",
    "import numpy as np\n",
    "\n",
    "import tensorflow as tf\n",
    "from tensorflow import keras as K\n",
    "from tensorflow.keras import layers\n",
    "import tensorflow_datasets as tfds\n",
    "from keras.wrappers.scikit_learn import KerasClassifier\n",
    "from sklearn.model_selection import GridSearchCV, RandomizedSearchCV\n",
    "from keras.utils import np_utils"
   ]
  },
  {
   "cell_type": "code",
   "execution_count": 167,
   "metadata": {},
   "outputs": [],
   "source": [
    "def prepare_data(dataset='mnist'):\n",
    "    if dataset.lower() == 'mnist':\n",
    "        (x_train, y_train), (x_test, y_test) = K.datasets.mnist.load_data()\n",
    "\n",
    "        x_train = x_train.astype(\"float32\")\n",
    "        x_test = x_test.astype(\"float32\")\n",
    "\n",
    "        x_train /= 255\n",
    "        x_test /= 255\n",
    "\n",
    "        x_train = x_train.reshape((x_train.shape[0], 28, 28, 1))\n",
    "        x_test = x_test.reshape((x_test.shape[0], 28, 28, 1))\n",
    "        \n",
    "        y_train = np_utils.to_categorical(y_train, 10)\n",
    "        y_test = np_utils.to_categorical(y_test, 10)\n",
    "        \n",
    "    return (x_train, y_train), (x_test, y_test)"
   ]
  },
  {
   "cell_type": "code",
   "execution_count": 168,
   "metadata": {},
   "outputs": [],
   "source": [
    "(x_train, y_train), (x_test, y_test) = prepare_data()"
   ]
  },
  {
   "cell_type": "code",
   "execution_count": 29,
   "metadata": {},
   "outputs": [],
   "source": [
    "# (ds_train, ds_test), ds_info = tfds.load(\"mnist\",\n",
    "#                                          split=['train', 'test'], \n",
    "#                                          shuffle_files=True,  # размешает файлы\n",
    "#                                          as_supervised=True,  # вернет tuple, иначе dict\n",
    "#                                          with_info=True)  # вернет инфоррмацию о датасете"
   ]
  },
  {
   "cell_type": "code",
   "execution_count": 30,
   "metadata": {},
   "outputs": [],
   "source": [
    "def normalize_image(image, label):\n",
    "    return tf.cast(image, tf.float32)/255.0, label"
   ]
  },
  {
   "cell_type": "code",
   "execution_count": 31,
   "metadata": {},
   "outputs": [],
   "source": [
    "BATCH_SIZE = 128"
   ]
  },
  {
   "cell_type": "code",
   "execution_count": 32,
   "metadata": {},
   "outputs": [],
   "source": [
    "# настройка тренировочного набора\n",
    "ds_train = ds_train.map(normalize_image)\n",
    "ds_train = ds_train.cache()\n",
    "ds_train = ds_train.shuffle(ds_info.splits['train'].num_examples)\n",
    "ds_train = ds_train.batch(BATCH_SIZE)\n",
    "\n",
    "# настройка тестового набора\n",
    "ds_test = ds_test.map(normalize_image)\n",
    "ds_test = ds_test.cache()\n",
    "ds_test = ds_test.shuffle(ds_info.splits['test'].num_examples)\n",
    "ds_test = ds_test.batch(BATCH_SIZE)"
   ]
  },
  {
   "cell_type": "code",
   "execution_count": 34,
   "metadata": {},
   "outputs": [],
   "source": [
    "def scheduler(epoch, lr):\n",
    "    if epoch < 2:\n",
    "        return lr\n",
    "    else:\n",
    "        return lr * 0.9"
   ]
  },
  {
   "cell_type": "code",
   "execution_count": 35,
   "metadata": {},
   "outputs": [],
   "source": [
    "lr_callback = K.callbacks.LearningRateScheduler(scheduler, verbose=1)\n",
    "\n",
    "save_callback = K.callbacks.ModelCheckpoint('tf_checkpoint/', \n",
    "                                         save_weights_only=True, \n",
    "                                         monitor='accuracy',\n",
    "                                         save_best_only=False)"
   ]
  },
  {
   "cell_type": "code",
   "execution_count": 36,
   "metadata": {},
   "outputs": [],
   "source": [
    "class CustomCallback(K.callbacks.Callback):\n",
    "    def on_epoch_end(self, epoch, logs=None):\n",
    "        if logs.get('val_accuracy') > 0.9:\n",
    "            print(\"можно останавливать обучение\")\n",
    "            self.model.stop_training = True\n",
    "    "
   ]
  },
  {
   "cell_type": "code",
   "execution_count": 164,
   "metadata": {},
   "outputs": [],
   "source": [
    "def grid_model(optimizer='adam', init='glorot_uniform'):\n",
    "    # simple model\n",
    "    model = K.Sequential([\n",
    "        K.Input(shape=(28, 28, 1)),\n",
    "        layers.Conv2D(16, kernel_size=(5, 5), activation='elu'),\n",
    "        layers.Conv2D(32, kernel_size=(5, 5), activation='elu'),\n",
    "        layers.MaxPooling2D(pool_size=(2, 2)),\n",
    "        layers.Conv2D(64, kernel_size=(3, 3), activation='elu'),\n",
    "        layers.MaxPooling2D(pool_size=(2, 2)),\n",
    "        layers.Flatten(),\n",
    "        layers.Dense(64, activation='sigmoid'),\n",
    "        layers.Dense(10)\n",
    "    ])\n",
    "#     model.compile(loss='binary_crossentropy', optimizer=optimizer, metrics=['accuracy'])\n",
    "    return model"
   ]
  },
  {
   "cell_type": "code",
   "execution_count": 292,
   "metadata": {},
   "outputs": [],
   "source": [
    "def define_model(optimizer='adam', activation='relu', kernel_initializer='he_uniform'):\n",
    "    model = K.models.Sequential()\n",
    "    model.add(layers.Conv2D(32, (3, 3), activation=activation, \n",
    "                            kernel_initializer=kernel_initializer, \n",
    "                            input_shape=(28, 28, 1)))\n",
    "    \n",
    "    model.add(layers.MaxPooling2D((2, 2)))\n",
    "    \n",
    "    model.add(layers.Flatten())\n",
    "    \n",
    "    model.add(layers.Dense(100, activation=activation, \n",
    "                           kernel_initializer=kernel_initializer))\n",
    "    \n",
    "    model.add(layers.Dense(10, activation='softmax'))\n",
    "\n",
    "    model.compile(optimizer=optimizer, loss='categorical_crossentropy', metrics=['accuracy'])\n",
    "    \n",
    "    return model"
   ]
  },
  {
   "cell_type": "code",
   "execution_count": 186,
   "metadata": {},
   "outputs": [
    {
     "name": "stdout",
     "output_type": "stream",
     "text": [
      "Epoch 1/5\n",
      "469/469 [==============================] - 15s 32ms/step - loss: 0.2481 - accuracy: 0.9260\n",
      "Epoch 2/5\n",
      "469/469 [==============================] - 15s 32ms/step - loss: 0.1011 - accuracy: 0.9710\n",
      "Epoch 3/5\n",
      "469/469 [==============================] - 15s 32ms/step - loss: 0.0696 - accuracy: 0.9799\n",
      "Epoch 4/5\n",
      "469/469 [==============================] - 16s 33ms/step - loss: 0.0533 - accuracy: 0.9842\n",
      "Epoch 5/5\n",
      "469/469 [==============================] - 16s 34ms/step - loss: 0.0436 - accuracy: 0.9875\n"
     ]
    },
    {
     "data": {
      "text/plain": [
       "<tensorflow.python.keras.callbacks.History at 0x17164a1d0>"
      ]
     },
     "execution_count": 186,
     "metadata": {},
     "output_type": "execute_result"
    }
   ],
   "source": [
    "model = define_model()\n",
    "\n",
    "# model.compile(loss='categorical_crossentropy', optimizer='adam', metrics=['accuracy'])\n",
    "model.fit(x_train, y_train, batch_size=128, epochs=5)"
   ]
  },
  {
   "cell_type": "code",
   "execution_count": 293,
   "metadata": {},
   "outputs": [],
   "source": [
    "keras_clf = KerasClassifier(build_fn=define_model, batch_size=128)"
   ]
  },
  {
   "cell_type": "code",
   "execution_count": 294,
   "metadata": {},
   "outputs": [],
   "source": [
    "# определим те гиперпараметры, которые будем тюнить\n",
    "optimizers = [\"Adam\", \"Nadam\", \"Adadelta\", \"RMSprop\"]\n",
    "weight_init = [\"he_uniform\", \"glorot_uniform\", \"normal\", \"uniform\"]\n",
    "learning_rate_cv = np.array([1e-1, 1e-2, 1e-3])\n",
    "\n",
    "# создадим сетку из этих гиперпараметров\n",
    "param_grid = dict(optimizer=optimizers, kernel_initializer=weight_init)"
   ]
  },
  {
   "cell_type": "code",
   "execution_count": 295,
   "metadata": {},
   "outputs": [
    {
     "data": {
      "text/plain": [
       "{'optimizer': ['Adam', 'Nadam', 'Adadelta', 'RMSprop'],\n",
       " 'kernel_initializer': ['he_uniform', 'glorot_uniform', 'normal', 'uniform']}"
      ]
     },
     "execution_count": 295,
     "metadata": {},
     "output_type": "execute_result"
    }
   ],
   "source": [
    "param_grid"
   ]
  },
  {
   "cell_type": "code",
   "execution_count": 296,
   "metadata": {},
   "outputs": [],
   "source": [
    "# создание класса GridSearchCV\n",
    "validator = GridSearchCV(estimator=keras_clf, param_grid=param_grid)"
   ]
  },
  {
   "cell_type": "code",
   "execution_count": 299,
   "metadata": {
    "collapsed": true,
    "jupyter": {
     "outputs_hidden": true
    }
   },
   "outputs": [
    {
     "name": "stdout",
     "output_type": "stream",
     "text": [
      "Epoch 1/2\n",
      "313/313 [==============================] - 11s 34ms/step - loss: 0.2368 - accuracy: 0.9285\n",
      "Epoch 2/2\n",
      "313/313 [==============================] - 10s 33ms/step - loss: 0.0790 - accuracy: 0.9772\n",
      "157/157 [==============================] - 2s 10ms/step - loss: 0.0751 - accuracy: 0.9775\n",
      "Epoch 1/2\n",
      "313/313 [==============================] - 11s 34ms/step - loss: 0.2611 - accuracy: 0.9226\n",
      "Epoch 2/2\n",
      "313/313 [==============================] - 10s 33ms/step - loss: 0.0795 - accuracy: 0.9762\n",
      "157/157 [==============================] - 2s 11ms/step - loss: 0.0797 - accuracy: 0.9762\n",
      "Epoch 1/2\n",
      "313/313 [==============================] - 11s 34ms/step - loss: 0.1939 - accuracy: 0.9424\n",
      "Epoch 2/2\n",
      "313/313 [==============================] - 11s 34ms/step - loss: 0.0619 - accuracy: 0.9816\n",
      "157/157 [==============================] - 2s 11ms/step - loss: 0.0694 - accuracy: 0.9785\n",
      "Epoch 1/2\n",
      "313/313 [==============================] - 12s 39ms/step - loss: 0.2075 - accuracy: 0.9393\n",
      "Epoch 2/2\n",
      "313/313 [==============================] - 12s 40ms/step - loss: 0.0652 - accuracy: 0.9807\n",
      "157/157 [==============================] - 2s 10ms/step - loss: 0.0657 - accuracy: 0.9794\n",
      "Epoch 1/2\n",
      "313/313 [==============================] - 12s 39ms/step - loss: 0.2351 - accuracy: 0.9284\n",
      "Epoch 2/2\n",
      "313/313 [==============================] - 12s 39ms/step - loss: 0.0689 - accuracy: 0.9800\n",
      "157/157 [==============================] - 2s 10ms/step - loss: 0.0748 - accuracy: 0.9771\n",
      "Epoch 1/2\n",
      "313/313 [==============================] - 12s 40ms/step - loss: 0.2471 - accuracy: 0.9236\n",
      "Epoch 2/2\n",
      "313/313 [==============================] - 12s 39ms/step - loss: 0.0760 - accuracy: 0.9770\n",
      "157/157 [==============================] - 2s 11ms/step - loss: 0.0909 - accuracy: 0.9732\n",
      "Epoch 1/2\n",
      "313/313 [==============================] - 10s 33ms/step - loss: 2.2711 - accuracy: 0.1464\n",
      "Epoch 2/2\n",
      "313/313 [==============================] - 11s 34ms/step - loss: 2.0267 - accuracy: 0.3620\n",
      "157/157 [==============================] - 2s 11ms/step - loss: 1.9101 - accuracy: 0.4852\n",
      "Epoch 1/2\n",
      "313/313 [==============================] - 11s 34ms/step - loss: 2.2803 - accuracy: 0.1777\n",
      "Epoch 2/2\n",
      "313/313 [==============================] - 11s 34ms/step - loss: 1.9945 - accuracy: 0.3793\n",
      "157/157 [==============================] - 2s 10ms/step - loss: 1.8682 - accuracy: 0.4834\n",
      "Epoch 1/2\n",
      "313/313 [==============================] - 11s 34ms/step - loss: 2.3121 - accuracy: 0.1312\n",
      "Epoch 2/2\n",
      "313/313 [==============================] - 11s 34ms/step - loss: 1.9993 - accuracy: 0.3536\n",
      "157/157 [==============================] - 2s 11ms/step - loss: 1.8447 - accuracy: 0.4882\n",
      "Epoch 1/2\n",
      "313/313 [==============================] - 12s 37ms/step - loss: 0.2513 - accuracy: 0.9237\n",
      "Epoch 2/2\n",
      "313/313 [==============================] - 12s 37ms/step - loss: 0.0710 - accuracy: 0.9778\n",
      "157/157 [==============================] - 2s 10ms/step - loss: 0.0711 - accuracy: 0.9776\n",
      "Epoch 1/2\n",
      "313/313 [==============================] - 11s 36ms/step - loss: 0.3088 - accuracy: 0.9084\n",
      "Epoch 2/2\n",
      "313/313 [==============================] - 11s 36ms/step - loss: 0.0863 - accuracy: 0.9737\n",
      "157/157 [==============================] - 2s 11ms/step - loss: 0.0861 - accuracy: 0.9737\n",
      "Epoch 1/2\n",
      "313/313 [==============================] - 12s 37ms/step - loss: 0.2912 - accuracy: 0.9103\n",
      "Epoch 2/2\n",
      "313/313 [==============================] - 11s 36ms/step - loss: 0.0801 - accuracy: 0.9754\n",
      "157/157 [==============================] - 2s 11ms/step - loss: 0.0884 - accuracy: 0.9718\n",
      "Epoch 1/2\n",
      "313/313 [==============================] - 10s 33ms/step - loss: 0.2974 - accuracy: 0.9158\n",
      "Epoch 2/2\n",
      "313/313 [==============================] - 10s 33ms/step - loss: 0.0969 - accuracy: 0.9717\n",
      "157/157 [==============================] - 2s 11ms/step - loss: 0.0908 - accuracy: 0.9736\n",
      "Epoch 1/2\n",
      "313/313 [==============================] - 10s 33ms/step - loss: 0.3032 - accuracy: 0.9167\n",
      "Epoch 2/2\n",
      "313/313 [==============================] - 10s 33ms/step - loss: 0.0956 - accuracy: 0.9715\n",
      "157/157 [==============================] - 2s 11ms/step - loss: 0.0873 - accuracy: 0.9751\n",
      "Epoch 1/2\n",
      "313/313 [==============================] - 11s 34ms/step - loss: 0.2920 - accuracy: 0.9174\n",
      "Epoch 2/2\n",
      "313/313 [==============================] - 12s 39ms/step - loss: 0.0890 - accuracy: 0.9743\n",
      "157/157 [==============================] - 2s 13ms/step - loss: 0.0925 - accuracy: 0.9714\n",
      "Epoch 1/2\n",
      "313/313 [==============================] - 13s 40ms/step - loss: 0.2956 - accuracy: 0.9174\n",
      "Epoch 2/2\n",
      "313/313 [==============================] - 13s 41ms/step - loss: 0.0886 - accuracy: 0.9740\n",
      "157/157 [==============================] - 2s 11ms/step - loss: 0.0872 - accuracy: 0.9747\n",
      "Epoch 1/2\n",
      "313/313 [==============================] - 13s 41ms/step - loss: 0.2957 - accuracy: 0.9165\n",
      "Epoch 2/2\n",
      "313/313 [==============================] - 13s 41ms/step - loss: 0.0896 - accuracy: 0.9743\n",
      "157/157 [==============================] - 2s 11ms/step - loss: 0.0831 - accuracy: 0.9765\n",
      "Epoch 1/2\n",
      "313/313 [==============================] - 13s 40ms/step - loss: 0.2939 - accuracy: 0.9183\n",
      "Epoch 2/2\n",
      "313/313 [==============================] - 13s 41ms/step - loss: 0.0894 - accuracy: 0.9739\n",
      "157/157 [==============================] - 2s 11ms/step - loss: 0.0935 - accuracy: 0.9728\n",
      "Epoch 1/2\n",
      "313/313 [==============================] - 11s 34ms/step - loss: 2.2778 - accuracy: 0.1482\n",
      "Epoch 2/2\n",
      "313/313 [==============================] - 11s 34ms/step - loss: 2.2372 - accuracy: 0.2715\n",
      "157/157 [==============================] - 2s 11ms/step - loss: 2.2143 - accuracy: 0.3428\n",
      "Epoch 1/2\n",
      "313/313 [==============================] - 11s 36ms/step - loss: 2.2903 - accuracy: 0.1294\n",
      "Epoch 2/2\n",
      "313/313 [==============================] - 11s 35ms/step - loss: 2.2418 - accuracy: 0.2120\n",
      "157/157 [==============================] - 2s 11ms/step - loss: 2.2177 - accuracy: 0.2705\n",
      "Epoch 1/2\n",
      "313/313 [==============================] - 11s 34ms/step - loss: 2.3031 - accuracy: 0.1223\n",
      "Epoch 2/2\n",
      "313/313 [==============================] - 10s 33ms/step - loss: 2.2508 - accuracy: 0.2654\n",
      "157/157 [==============================] - 2s 11ms/step - loss: 2.2238 - accuracy: 0.3424\n",
      "Epoch 1/2\n",
      "313/313 [==============================] - 12s 37ms/step - loss: 0.2982 - accuracy: 0.9113\n",
      "Epoch 2/2\n",
      "313/313 [==============================] - 11s 36ms/step - loss: 0.0942 - accuracy: 0.9725\n",
      "157/157 [==============================] - 2s 11ms/step - loss: 0.1032 - accuracy: 0.9678\n",
      "Epoch 1/2\n",
      "313/313 [==============================] - 11s 35ms/step - loss: 0.2745 - accuracy: 0.9196\n",
      "Epoch 2/2\n",
      "313/313 [==============================] - 11s 34ms/step - loss: 0.0889 - accuracy: 0.9747\n",
      "157/157 [==============================] - 2s 11ms/step - loss: 0.0823 - accuracy: 0.9763\n",
      "Epoch 1/2\n",
      "313/313 [==============================] - 11s 35ms/step - loss: 0.2721 - accuracy: 0.9191\n",
      "Epoch 2/2\n",
      "313/313 [==============================] - 11s 35ms/step - loss: 0.0839 - accuracy: 0.9751\n",
      "157/157 [==============================] - 2s 10ms/step - loss: 0.0739 - accuracy: 0.9776\n",
      "Epoch 1/2\n",
      "313/313 [==============================] - 10s 33ms/step - loss: 0.3149 - accuracy: 0.9127\n",
      "Epoch 2/2\n",
      "313/313 [==============================] - 10s 33ms/step - loss: 0.0945 - accuracy: 0.9718\n",
      "157/157 [==============================] - 2s 11ms/step - loss: 0.0838 - accuracy: 0.9757\n",
      "Epoch 1/2\n",
      "313/313 [==============================] - 11s 37ms/step - loss: 0.3012 - accuracy: 0.9142\n",
      "Epoch 2/2\n",
      "313/313 [==============================] - 10s 33ms/step - loss: 0.0930 - accuracy: 0.9725\n",
      "157/157 [==============================] - 2s 10ms/step - loss: 0.0888 - accuracy: 0.9750\n",
      "Epoch 1/2\n",
      "313/313 [==============================] - 10s 33ms/step - loss: 0.3428 - accuracy: 0.9047\n",
      "Epoch 2/2\n",
      "313/313 [==============================] - 10s 33ms/step - loss: 0.1004 - accuracy: 0.9708\n",
      "157/157 [==============================] - 2s 10ms/step - loss: 0.0852 - accuracy: 0.9745\n",
      "Epoch 1/2\n",
      "313/313 [==============================] - 12s 40ms/step - loss: 0.3216 - accuracy: 0.9087\n",
      "Epoch 2/2\n",
      "313/313 [==============================] - 12s 40ms/step - loss: 0.0955 - accuracy: 0.9718\n",
      "157/157 [==============================] - 2s 11ms/step - loss: 0.0810 - accuracy: 0.9761\n",
      "Epoch 1/2\n",
      "313/313 [==============================] - 12s 40ms/step - loss: 0.3365 - accuracy: 0.9060\n",
      "Epoch 2/2\n",
      "313/313 [==============================] - 12s 40ms/step - loss: 0.1096 - accuracy: 0.9682\n",
      "157/157 [==============================] - 2s 11ms/step - loss: 0.1053 - accuracy: 0.9706\n",
      "Epoch 1/2\n",
      "313/313 [==============================] - 13s 41ms/step - loss: 0.3346 - accuracy: 0.9048\n",
      "Epoch 2/2\n",
      "313/313 [==============================] - 12s 39ms/step - loss: 0.0973 - accuracy: 0.9709\n",
      "157/157 [==============================] - 2s 10ms/step - loss: 0.0988 - accuracy: 0.9690\n",
      "Epoch 1/2\n",
      "313/313 [==============================] - 11s 34ms/step - loss: 2.3635 - accuracy: 0.0529\n",
      "Epoch 2/2\n",
      "313/313 [==============================] - 11s 34ms/step - loss: 2.3298 - accuracy: 0.0770\n",
      "157/157 [==============================] - 2s 11ms/step - loss: 2.3141 - accuracy: 0.0949\n",
      "Epoch 1/2\n",
      "313/313 [==============================] - 11s 34ms/step - loss: 2.2993 - accuracy: 0.1170\n",
      "Epoch 2/2\n",
      "313/313 [==============================] - 11s 35ms/step - loss: 2.2782 - accuracy: 0.1562\n",
      "157/157 [==============================] - 2s 11ms/step - loss: 2.2675 - accuracy: 0.1778\n",
      "Epoch 1/2\n",
      "313/313 [==============================] - 11s 35ms/step - loss: 2.3082 - accuracy: 0.1119\n",
      "Epoch 2/2\n",
      "313/313 [==============================] - 11s 34ms/step - loss: 2.2823 - accuracy: 0.1285\n",
      "157/157 [==============================] - 2s 11ms/step - loss: 2.2689 - accuracy: 0.1353\n",
      "Epoch 1/2\n",
      "313/313 [==============================] - 12s 37ms/step - loss: 0.3173 - accuracy: 0.9065\n",
      "Epoch 2/2\n",
      "313/313 [==============================] - 12s 37ms/step - loss: 0.0991 - accuracy: 0.9701\n",
      "157/157 [==============================] - 2s 11ms/step - loss: 0.1003 - accuracy: 0.9685\n",
      "Epoch 1/2\n",
      "313/313 [==============================] - 11s 36ms/step - loss: 0.3135 - accuracy: 0.9069\n",
      "Epoch 2/2\n",
      "313/313 [==============================] - 11s 36ms/step - loss: 0.0979 - accuracy: 0.9714\n",
      "157/157 [==============================] - 2s 11ms/step - loss: 0.0894 - accuracy: 0.9733\n",
      "Epoch 1/2\n",
      "313/313 [==============================] - 12s 38ms/step - loss: 0.2898 - accuracy: 0.9167\n",
      "Epoch 2/2\n",
      "313/313 [==============================] - 12s 38ms/step - loss: 0.0933 - accuracy: 0.9725\n",
      "157/157 [==============================] - 2s 12ms/step - loss: 0.0790 - accuracy: 0.9764\n",
      "Epoch 1/2\n",
      "313/313 [==============================] - 11s 34ms/step - loss: 0.3509 - accuracy: 0.9024\n",
      "Epoch 2/2\n",
      "313/313 [==============================] - 10s 33ms/step - loss: 0.1065 - accuracy: 0.9697\n",
      "157/157 [==============================] - 2s 11ms/step - loss: 0.0881 - accuracy: 0.9739\n",
      "Epoch 1/2\n",
      "313/313 [==============================] - 10s 33ms/step - loss: 0.3410 - accuracy: 0.9101\n",
      "Epoch 2/2\n",
      "313/313 [==============================] - 10s 33ms/step - loss: 0.1014 - accuracy: 0.9704\n",
      "157/157 [==============================] - 2s 11ms/step - loss: 0.0865 - accuracy: 0.9750\n",
      "Epoch 1/2\n",
      "313/313 [==============================] - 11s 34ms/step - loss: 0.3537 - accuracy: 0.9039\n",
      "Epoch 2/2\n",
      "313/313 [==============================] - 11s 34ms/step - loss: 0.1081 - accuracy: 0.9685\n",
      "157/157 [==============================] - 2s 11ms/step - loss: 0.0941 - accuracy: 0.9715\n",
      "Epoch 1/2\n",
      "313/313 [==============================] - 12s 40ms/step - loss: 0.3532 - accuracy: 0.8993\n",
      "Epoch 2/2\n",
      "313/313 [==============================] - 12s 40ms/step - loss: 0.1130 - accuracy: 0.9678\n",
      "157/157 [==============================] - 2s 11ms/step - loss: 0.0953 - accuracy: 0.9716\n",
      "Epoch 1/2\n",
      "313/313 [==============================] - 13s 40ms/step - loss: 0.3388 - accuracy: 0.9064\n",
      "Epoch 2/2\n",
      "313/313 [==============================] - 13s 40ms/step - loss: 0.1107 - accuracy: 0.9672\n",
      "157/157 [==============================] - 2s 11ms/step - loss: 0.1149 - accuracy: 0.9650\n",
      "Epoch 1/2\n",
      "313/313 [==============================] - 12s 39ms/step - loss: 0.3784 - accuracy: 0.8928\n",
      "Epoch 2/2\n",
      "313/313 [==============================] - 12s 40ms/step - loss: 0.1291 - accuracy: 0.9619\n",
      "157/157 [==============================] - 2s 10ms/step - loss: 0.1293 - accuracy: 0.9611\n",
      "Epoch 1/2\n",
      "313/313 [==============================] - 11s 34ms/step - loss: 2.2989 - accuracy: 0.1066\n",
      "Epoch 2/2\n",
      "313/313 [==============================] - 10s 33ms/step - loss: 2.2866 - accuracy: 0.1364\n",
      "157/157 [==============================] - 2s 11ms/step - loss: 2.2815 - accuracy: 0.1534\n",
      "Epoch 1/2\n",
      "313/313 [==============================] - 11s 35ms/step - loss: 2.3054 - accuracy: 0.0752\n",
      "Epoch 2/2\n",
      "313/313 [==============================] - 11s 34ms/step - loss: 2.2926 - accuracy: 0.1259\n",
      "157/157 [==============================] - 2s 11ms/step - loss: 2.2861 - accuracy: 0.1586\n",
      "Epoch 1/2\n",
      "313/313 [==============================] - 11s 35ms/step - loss: 2.3040 - accuracy: 0.1003\n",
      "Epoch 2/2\n",
      "313/313 [==============================] - 11s 35ms/step - loss: 2.2945 - accuracy: 0.1124\n",
      "157/157 [==============================] - 2s 11ms/step - loss: 2.2899 - accuracy: 0.1186\n",
      "Epoch 1/2\n",
      "313/313 [==============================] - 11s 36ms/step - loss: 0.3372 - accuracy: 0.9011\n",
      "Epoch 2/2\n",
      "313/313 [==============================] - 11s 37ms/step - loss: 0.1089 - accuracy: 0.9685\n",
      "157/157 [==============================] - 2s 14ms/step - loss: 0.1001 - accuracy: 0.9700\n",
      "Epoch 1/2\n",
      "313/313 [==============================] - 13s 43ms/step - loss: 0.3252 - accuracy: 0.9052\n",
      "Epoch 2/2\n",
      "313/313 [==============================] - 15s 47ms/step - loss: 0.1030 - accuracy: 0.9694\n",
      "157/157 [==============================] - 2s 11ms/step - loss: 0.1077 - accuracy: 0.9676\n",
      "Epoch 1/2\n",
      "313/313 [==============================] - 12s 38ms/step - loss: 0.3207 - accuracy: 0.9057\n",
      "Epoch 2/2\n",
      "313/313 [==============================] - 12s 38ms/step - loss: 0.0979 - accuracy: 0.9715\n",
      "157/157 [==============================] - 2s 11ms/step - loss: 0.0790 - accuracy: 0.9764\n",
      "Epoch 1/2\n",
      "469/469 [==============================] - 16s 33ms/step - loss: 0.1606 - accuracy: 0.9524\n",
      "Epoch 2/2\n",
      "469/469 [==============================] - 16s 33ms/step - loss: 0.0527 - accuracy: 0.9843\n"
     ]
    }
   ],
   "source": [
    "result = validator.fit(x_train, y_train, epochs=2)"
   ]
  },
  {
   "cell_type": "code",
   "execution_count": 305,
   "metadata": {},
   "outputs": [
    {
     "name": "stdout",
     "output_type": "stream",
     "text": [
      "best accuracy is 0.977\n"
     ]
    }
   ],
   "source": [
    "print(f'best accuracy is {result.best_score_:.3f}')"
   ]
  },
  {
   "cell_type": "code",
   "execution_count": 307,
   "metadata": {},
   "outputs": [
    {
     "data": {
      "text/plain": [
       "{'kernel_initializer': 'he_uniform', 'optimizer': 'Adam'}"
      ]
     },
     "execution_count": 307,
     "metadata": {},
     "output_type": "execute_result"
    }
   ],
   "source": [
    "result.best_params_"
   ]
  },
  {
   "cell_type": "code",
   "execution_count": 315,
   "metadata": {},
   "outputs": [],
   "source": [
    "cvres = result.cv_results_"
   ]
  },
  {
   "cell_type": "code",
   "execution_count": 328,
   "metadata": {},
   "outputs": [
    {
     "name": "stdout",
     "output_type": "stream",
     "text": [
      "0.977 {'kernel_initializer': 'he_uniform', 'optimizer': 'Adam'}\n",
      "0.977 {'kernel_initializer': 'he_uniform', 'optimizer': 'Nadam'}\n",
      "0.486 {'kernel_initializer': 'he_uniform', 'optimizer': 'Adadelta'}\n",
      "0.974 {'kernel_initializer': 'he_uniform', 'optimizer': 'RMSprop'}\n",
      "0.973 {'kernel_initializer': 'glorot_uniform', 'optimizer': 'Adam'}\n",
      "0.975 {'kernel_initializer': 'glorot_uniform', 'optimizer': 'Nadam'}\n",
      "0.319 {'kernel_initializer': 'glorot_uniform', 'optimizer': 'Adadelta'}\n",
      "0.974 {'kernel_initializer': 'glorot_uniform', 'optimizer': 'RMSprop'}\n",
      "0.975 {'kernel_initializer': 'normal', 'optimizer': 'Adam'}\n",
      "0.972 {'kernel_initializer': 'normal', 'optimizer': 'Nadam'}\n",
      "0.136 {'kernel_initializer': 'normal', 'optimizer': 'Adadelta'}\n",
      "0.973 {'kernel_initializer': 'normal', 'optimizer': 'RMSprop'}\n",
      "0.973 {'kernel_initializer': 'uniform', 'optimizer': 'Adam'}\n",
      "0.966 {'kernel_initializer': 'uniform', 'optimizer': 'Nadam'}\n",
      "0.144 {'kernel_initializer': 'uniform', 'optimizer': 'Adadelta'}\n",
      "0.971 {'kernel_initializer': 'uniform', 'optimizer': 'RMSprop'}\n"
     ]
    }
   ],
   "source": [
    "for mean_test_score, params in zip(cvres[\"mean_test_score\"], cvres['params']):\n",
    "    print(f'{mean_test_score:.3f}', params)"
   ]
  },
  {
   "cell_type": "code",
   "execution_count": 338,
   "metadata": {},
   "outputs": [
    {
     "data": {
      "text/plain": [
       "\" Let's try search by random approach \""
      ]
     },
     "execution_count": 338,
     "metadata": {},
     "output_type": "execute_result"
    }
   ],
   "source": [
    "\"\"\" Let's try search by random approach \"\"\""
   ]
  },
  {
   "cell_type": "code",
   "execution_count": 335,
   "metadata": {
    "collapsed": true,
    "jupyter": {
     "outputs_hidden": true
    }
   },
   "outputs": [
    {
     "name": "stderr",
     "output_type": "stream",
     "text": [
      "/Library/Frameworks/Python.framework/Versions/3.7/lib/python3.7/site-packages/sklearn/model_selection/_split.py:1978: FutureWarning: The default value of cv will change from 3 to 5 in version 0.22. Specify it explicitly to silence this warning.\n",
      "  warnings.warn(CV_WARNING, FutureWarning)\n"
     ]
    },
    {
     "name": "stdout",
     "output_type": "stream",
     "text": [
      "313/313 [==============================] - 10s 32ms/step - loss: 0.2372 - accuracy: 0.9275\n",
      "157/157 [==============================] - 2s 10ms/step - loss: 0.1226 - accuracy: 0.9640\n",
      "313/313 [==============================] - 10s 33ms/step - loss: 0.1967 - accuracy: 0.9412\n",
      "157/157 [==============================] - 2s 10ms/step - loss: 0.0879 - accuracy: 0.9745\n",
      "313/313 [==============================] - 11s 34ms/step - loss: 0.2246 - accuracy: 0.9336\n",
      "157/157 [==============================] - 2s 10ms/step - loss: 0.1138 - accuracy: 0.9659\n",
      "313/313 [==============================] - 13s 43ms/step - loss: 0.2575 - accuracy: 0.9225\n",
      "157/157 [==============================] - 3s 17ms/step - loss: 0.1527 - accuracy: 0.9502\n",
      "313/313 [==============================] - 20s 65ms/step - loss: 0.2405 - accuracy: 0.9269\n",
      "157/157 [==============================] - 2s 11ms/step - loss: 0.1333 - accuracy: 0.9607\n",
      "313/313 [==============================] - 12s 39ms/step - loss: 0.2242 - accuracy: 0.9305\n",
      "157/157 [==============================] - 2s 10ms/step - loss: 0.1895 - accuracy: 0.9401\n",
      "313/313 [==============================] - 13s 42ms/step - loss: 0.2999 - accuracy: 0.9156\n",
      "157/157 [==============================] - 2s 10ms/step - loss: 0.1514 - accuracy: 0.9550\n",
      "313/313 [==============================] - 14s 46ms/step - loss: 0.3104 - accuracy: 0.9129\n",
      "157/157 [==============================] - 2s 16ms/step - loss: 0.1429 - accuracy: 0.9599\n",
      "313/313 [==============================] - 15s 47ms/step - loss: 0.3049 - accuracy: 0.9145\n",
      "157/157 [==============================] - 2s 10ms/step - loss: 0.1277 - accuracy: 0.9621\n",
      "313/313 [==============================] - 10s 33ms/step - loss: 2.3034 - accuracy: 0.0958\n",
      "157/157 [==============================] - 2s 12ms/step - loss: 2.2973 - accuracy: 0.0962\n",
      "313/313 [==============================] - 12s 39ms/step - loss: 2.3067 - accuracy: 0.1095\n",
      "157/157 [==============================] - 2s 12ms/step - loss: 2.3017 - accuracy: 0.1208\n",
      "313/313 [==============================] - 22s 69ms/step - loss: 2.2892 - accuracy: 0.1531\n",
      "157/157 [==============================] - 5s 31ms/step - loss: 2.2834 - accuracy: 0.1806\n",
      "313/313 [==============================] - 26s 84ms/step - loss: 0.3409 - accuracy: 0.9047\n",
      "157/157 [==============================] - 2s 14ms/step - loss: 0.1377 - accuracy: 0.9610\n",
      "313/313 [==============================] - 17s 55ms/step - loss: 0.3264 - accuracy: 0.9104\n",
      "157/157 [==============================] - 2s 16ms/step - loss: 0.1367 - accuracy: 0.9596\n",
      "313/313 [==============================] - 17s 55ms/step - loss: 0.3352 - accuracy: 0.9082\n",
      "157/157 [==============================] - 2s 13ms/step - loss: 0.1835 - accuracy: 0.9433\n",
      "313/313 [==============================] - 14s 46ms/step - loss: 0.3098 - accuracy: 0.9087\n",
      "157/157 [==============================] - 3s 17ms/step - loss: 0.1364 - accuracy: 0.9600\n",
      "313/313 [==============================] - 15s 49ms/step - loss: 0.3097 - accuracy: 0.9094\n",
      "157/157 [==============================] - 2s 16ms/step - loss: 0.1358 - accuracy: 0.9609\n",
      "313/313 [==============================] - 15s 48ms/step - loss: 0.3157 - accuracy: 0.9061\n",
      "157/157 [==============================] - 2s 14ms/step - loss: 0.1420 - accuracy: 0.9582\n",
      "313/313 [==============================] - 15s 46ms/step - loss: 0.3235 - accuracy: 0.9108\n",
      "157/157 [==============================] - 2s 14ms/step - loss: 0.1432 - accuracy: 0.9605\n",
      "313/313 [==============================] - 14s 44ms/step - loss: 0.3180 - accuracy: 0.9118\n",
      "157/157 [==============================] - 2s 14ms/step - loss: 0.1226 - accuracy: 0.9649\n",
      "313/313 [==============================] - 14s 45ms/step - loss: 0.3135 - accuracy: 0.9105\n",
      "157/157 [==============================] - 2s 13ms/step - loss: 0.1408 - accuracy: 0.9593\n",
      "313/313 [==============================] - 13s 40ms/step - loss: 0.3314 - accuracy: 0.9037\n",
      "157/157 [==============================] - 2s 10ms/step - loss: 0.1529 - accuracy: 0.9549\n",
      "313/313 [==============================] - 13s 40ms/step - loss: 0.3216 - accuracy: 0.9098\n",
      "157/157 [==============================] - 2s 12ms/step - loss: 0.1323 - accuracy: 0.9624\n",
      "313/313 [==============================] - 13s 41ms/step - loss: 0.3367 - accuracy: 0.9029\n",
      "157/157 [==============================] - 2s 10ms/step - loss: 0.2209 - accuracy: 0.9298\n",
      "313/313 [==============================] - 10s 33ms/step - loss: 2.2191 - accuracy: 0.1798\n",
      "157/157 [==============================] - 2s 10ms/step - loss: 2.0286 - accuracy: 0.2954\n",
      "313/313 [==============================] - 10s 30ms/step - loss: 2.2652 - accuracy: 0.1631\n",
      "157/157 [==============================] - 1s 9ms/step - loss: 2.0691 - accuracy: 0.2774\n",
      "313/313 [==============================] - 10s 31ms/step - loss: 2.3661 - accuracy: 0.1772\n",
      "157/157 [==============================] - 2s 10ms/step - loss: 2.1519 - accuracy: 0.2708\n",
      "313/313 [==============================] - 11s 34ms/step - loss: 0.3514 - accuracy: 0.8946\n",
      "157/157 [==============================] - 2s 10ms/step - loss: 0.2090 - accuracy: 0.9351\n",
      "313/313 [==============================] - 10s 33ms/step - loss: 0.3238 - accuracy: 0.9037\n",
      "157/157 [==============================] - 1s 10ms/step - loss: 0.1692 - accuracy: 0.9526\n",
      "313/313 [==============================] - 11s 34ms/step - loss: 0.3305 - accuracy: 0.9033\n",
      "157/157 [==============================] - 1s 9ms/step - loss: 0.1693 - accuracy: 0.9476\n",
      "469/469 [==============================] - 16s 34ms/step - loss: 0.1814 - accuracy: 0.9452\n"
     ]
    }
   ],
   "source": [
    "%%time\n",
    "# создание класса RandomSearchCV\n",
    "validator_rnd = RandomizedSearchCV(estimator=keras_clf, param_distributions=param_grid, random_state=42)\n",
    "\n",
    "result = validator_rnd.fit(x_train, y_train)"
   ]
  },
  {
   "cell_type": "code",
   "execution_count": 336,
   "metadata": {},
   "outputs": [
    {
     "data": {
      "text/plain": [
       "{'optimizer': 'Adam', 'kernel_initializer': 'he_uniform'}"
      ]
     },
     "execution_count": 336,
     "metadata": {},
     "output_type": "execute_result"
    }
   ],
   "source": [
    "result.best_params_"
   ]
  },
  {
   "cell_type": "code",
   "execution_count": 337,
   "metadata": {},
   "outputs": [
    {
     "name": "stdout",
     "output_type": "stream",
     "text": [
      "0.968 {'optimizer': 'Adam', 'kernel_initializer': 'he_uniform'}\n",
      "0.950 {'optimizer': 'Nadam', 'kernel_initializer': 'he_uniform'}\n",
      "0.959 {'optimizer': 'Nadam', 'kernel_initializer': 'glorot_uniform'}\n",
      "0.133 {'optimizer': 'Adadelta', 'kernel_initializer': 'uniform'}\n",
      "0.955 {'optimizer': 'Nadam', 'kernel_initializer': 'uniform'}\n",
      "0.960 {'optimizer': 'RMSprop', 'kernel_initializer': 'normal'}\n",
      "0.962 {'optimizer': 'Adam', 'kernel_initializer': 'normal'}\n",
      "0.949 {'optimizer': 'Nadam', 'kernel_initializer': 'normal'}\n",
      "0.281 {'optimizer': 'Adadelta', 'kernel_initializer': 'he_uniform'}\n",
      "0.945 {'optimizer': 'RMSprop', 'kernel_initializer': 'uniform'}\n"
     ]
    }
   ],
   "source": [
    "cvres = result.cv_results_\n",
    "\n",
    "for score, params in zip(cvres['mean_test_score'], cvres['params']):\n",
    "    print(f'{score:.3f}', params)"
   ]
  },
  {
   "cell_type": "code",
   "execution_count": null,
   "metadata": {},
   "outputs": [],
   "source": []
  }
 ],
 "metadata": {
  "kernelspec": {
   "display_name": "Python 3",
   "language": "python",
   "name": "python3"
  },
  "language_info": {
   "codemirror_mode": {
    "name": "ipython",
    "version": 3
   },
   "file_extension": ".py",
   "mimetype": "text/x-python",
   "name": "python",
   "nbconvert_exporter": "python",
   "pygments_lexer": "ipython3",
   "version": "3.7.3"
  }
 },
 "nbformat": 4,
 "nbformat_minor": 4
}
