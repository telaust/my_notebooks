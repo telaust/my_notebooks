{
 "cells": [
  {
   "cell_type": "code",
   "execution_count": 7,
   "metadata": {},
   "outputs": [
    {
     "name": "stderr",
     "output_type": "stream",
     "text": [
      "ag_news_csv.tar.gz: 11.8MB [00:04, 2.58MB/s]\n",
      "120000lines [00:14, 8523.30lines/s] \n",
      "120000lines [00:25, 4672.10lines/s]\n",
      "7600lines [00:01, 4921.35lines/s]\n"
     ]
    }
   ],
   "source": [
    "import torch\n",
    "import torchtext\n",
    "from torchtext.datasets import text_classification\n",
    "NGRAMS = 2\n",
    "import os\n",
    "if not os.path.isdir('./data'):\n",
    "    os.mkdir('./data')\n",
    "train_dataset, test_dataset = text_classification.DATASETS['AG_NEWS'](\n",
    "    root='./data', ngrams=NGRAMS, vocab=None)\n"
   ]
  },
  {
   "cell_type": "code",
   "execution_count": 10,
   "metadata": {},
   "outputs": [],
   "source": [
    "from torch import nn"
   ]
  },
  {
   "cell_type": "markdown",
   "metadata": {},
   "source": [
    "Define Model"
   ]
  },
  {
   "cell_type": "code",
   "execution_count": 12,
   "metadata": {},
   "outputs": [],
   "source": [
    "\n",
    "\n",
    "def TextClassifier(Module): # extending nn.Module\n",
    "    def __init__(self, voc_size, emb_size, n_classes):\n",
    "        super().__init__()\n",
    "        \n",
    "        self.emb = nn.EmbeddingBag(voc_size, emb_size)\n",
    "        self.fc = nn.Linear(emb_size, n_classes)\n",
    "        \n",
    "        self.init_weights()\n",
    "        \n",
    "    def forward(self, text, offsets):\n",
    "        embedded = self.emb(text, offset)\n",
    "        \n",
    "        return self.fc(embedded)\n",
    "    \n",
    "    def init_weights(self):\n",
    "        initrange = 0.5\n",
    "        self.emb.weights.data.uniform_(-initrage, initrange)\n",
    "        self.fc.weights.data.uniform_(-initrange, initrange)\n",
    "        self.fc.bias.data.set_zero_()\n",
    "        "
   ]
  },
  {
   "cell_type": "code",
   "execution_count": null,
   "metadata": {},
   "outputs": [],
   "source": []
  }
 ],
 "metadata": {
  "kernelspec": {
   "display_name": "Python 3",
   "language": "python",
   "name": "python3"
  },
  "language_info": {
   "codemirror_mode": {
    "name": "ipython",
    "version": 3
   },
   "file_extension": ".py",
   "mimetype": "text/x-python",
   "name": "python",
   "nbconvert_exporter": "python",
   "pygments_lexer": "ipython3",
   "version": "3.7.3"
  }
 },
 "nbformat": 4,
 "nbformat_minor": 4
}
