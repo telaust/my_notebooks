{
 "cells": [
  {
   "cell_type": "code",
   "execution_count": 145,
   "metadata": {},
   "outputs": [],
   "source": [
    "import torch\n",
    "\n",
    "import torch.nn.functional as F\n",
    "from torchvision.datasets import CIFAR10\n",
    "from torchvision import transforms\n",
    "from torch.utils.data import DataLoader\n",
    "from torch import optim\n",
    "import matplotlib.pyplot as plt\n",
    "import numpy as np\n",
    "import torchvision\n",
    "\n",
    "from torch.nn import *"
   ]
  },
  {
   "cell_type": "code",
   "execution_count": 2,
   "metadata": {},
   "outputs": [],
   "source": [
    "n_batches = 64\n",
    "\n",
    "# Скачиваем размеченный датасет\n",
    "img_transform = transforms.Compose([\n",
    "    transforms.ToTensor(),\n",
    "    transforms.Normalize((0.5, 0.5, 0.5), \n",
    "                         (0.5, 0.5, 0.5))\n",
    "])\n",
    "\n",
    "dataset = CIFAR10('./data', transform=img_transform, download=False)\n",
    "dataloader = DataLoader(dataset, batch_size=n_batches, shuffle=True)"
   ]
  },
  {
   "cell_type": "code",
   "execution_count": 204,
   "metadata": {},
   "outputs": [
    {
     "data": {
      "image/png": "[encoded data removed]",
      "text/plain": [
       "<Figure size 432x288 with 1 Axes>"
      ]
     },
     "metadata": {
      "needs_background": "light"
     },
     "output_type": "display_data"
    }
   ],
   "source": [
    "classes = ('plane', 'car', 'bird', 'cat',\n",
    "           'deer', 'dog', 'frog', 'horse', 'ship', 'truck')\n",
    "\n",
    "dataiter = iter(dataloader)\n",
    "images, targets = dataiter.next()\n",
    "\n",
    "imshow(torchvision.utils.make_grid(images[:5], padding=0))\n",
    "plt.title(' '.join([classes[targets[i]] for i in range(5)]) + \"\\n\")\n",
    "plt.show()"
   ]
  },
  {
   "cell_type": "code",
   "execution_count": 222,
   "metadata": {},
   "outputs": [
    {
     "data": {
      "text/plain": [
       "torch.Size([64, 3, 32, 32])"
      ]
     },
     "execution_count": 222,
     "metadata": {},
     "output_type": "execute_result"
    }
   ],
   "source": [
    "images.size()"
   ]
  },
  {
   "cell_type": "markdown",
   "metadata": {},
   "source": [
    "# Util function\n",
    "\n",
    "def plot_image(image, shape=[32, 32, 3]):\n",
    "#     npimg = image.numpy()\n",
    "    plt.imshow( ((image.reshape(shape))*255).astype(np.uint8), interpolation=\"nearest\" )\n",
    "    plt.axis('off')\n",
    "\n",
    "def imshow(img):\n",
    "    img = img/2 + 0.5\n",
    "    npimg = img.numpy()\n",
    "    plt.imshow( ( (np.transpose(npimg, (1, 2, 0)))*255).astype(np.uint8) , interpolation='nearest' )\n",
    "    plt.axis('off')\n"
   ]
  },
  {
   "cell_type": "code",
   "execution_count": 96,
   "metadata": {},
   "outputs": [],
   "source": [
    "# DEFINE A MODEL\n",
    "\n",
    "class VarAE(nn.Module):\n",
    "    \n",
    "    def __init__(self, in_size, hid1_size, hid2_size):\n",
    "        super(VarAE, self).__init__()\n",
    "        \n",
    "        self.fc1 = nn.Linear(3072, 500)\n",
    "        \n",
    "        self.fc21 = nn.Linear(500, 20)\n",
    "        self.fc22 = nn.Linear(500, 20)\n",
    "        \n",
    "        self.fc3 = nn.Linear(20, 500)\n",
    "        self.fc4 = nn.Linear(500, 3072)\n",
    "        \n",
    "    def encode(self, x): # activation \n",
    "#         print(\"size of x \", x.size())\n",
    "        h1 = F.relu( torch.FloatTensor(self.fc1(x)  ) )\n",
    "        return self.fc21(h1), self.fc22(h1)\n",
    "    \n",
    "    def reparam(self, mu, gamma):\n",
    "        std = torch.exp(gamma/2)\n",
    "        noise = torch.FloatTensor(std.size()).normal_()\n",
    "        noise = torch.autograd.Variable(noise)\n",
    "        return  (noise * std + mu)\n",
    "    \n",
    "    def decode(self, z):\n",
    "        h3 = F.elu( self.fc3(z) ) # TypeError: elu(): argument 'input' (position 1) must be Tensor, not Linear\n",
    "        return torch.sigmoid(self.fc4(h3))\n",
    "\n",
    "    def forward(self, x):\n",
    "        mu, gamma = self.encode(x)\n",
    "        z = self.reparam(mu, gamma)\n",
    "\n",
    "        return self.decode(z), mu, gamma"
   ]
  },
  {
   "cell_type": "code",
   "execution_count": 154,
   "metadata": {},
   "outputs": [],
   "source": [
    "class vae(nn.Module):\n",
    "    def __init__(self):\n",
    "        super(vae, self).__init__()\n",
    "        \n",
    "        self.fc1 = Linear(3072, 1536)\n",
    "        self.fc2 = Linear(1536, 768)\n",
    "        \n",
    "        self.fc31 = Linear(768, 30) \n",
    "        self.fc32 = Linear(768, 30)\n",
    "        \n",
    "        self.fc4 = Linear(30, 768)\n",
    "        self.fc5 = Linear(768, 1536)\n",
    "        self.fc6 = Linear(1536, 3072)\n",
    "        \n",
    "    def encode(self, x):\n",
    "        x = torch.relu(self.fc1(x))\n",
    "        x = torch.relu(self.fc2(x))\n",
    "        \n",
    "        return self.fc31(x), self.fc32(x)\n",
    "    \n",
    "    def reparametrize(self, mu, gamma):\n",
    "        std = torch.exp(gamma/2)\n",
    "        normal_noise = torch.FloatTensor(std.size()).normal_()\n",
    "        normal_noise = torch.autograd.Variable(normal_noise)\n",
    "        return normal_noise * std + mu\n",
    "\n",
    "    def decode(self, x):\n",
    "        x = F.elu(self.fc4(x))\n",
    "        x = F.elu(self.fc5(x))\n",
    "        x = torch.sigmoid(self.fc6(x))\n",
    "        \n",
    "        return x\n",
    "    \n",
    "    def forward(self, x):\n",
    "        mu, gamma = self.encode(x)\n",
    "        z = self.reparametrize(mu, gamma)\n",
    "        \n",
    "        return self.decode(z), mu, gamma\n",
    "        "
   ]
  },
  {
   "cell_type": "code",
   "execution_count": 155,
   "metadata": {},
   "outputs": [],
   "source": [
    "model = vae()  # вторая модель, где больше слове -- быстрее будет обучаться?"
   ]
  },
  {
   "cell_type": "code",
   "execution_count": 156,
   "metadata": {},
   "outputs": [],
   "source": [
    "\n",
    "reconstruction_loss = nn.MSELoss(reduction='sum')\n",
    "\n",
    "def loss_fn(gen, orig, mu, gamma):\n",
    "    rec_loss = reconstruction_loss(gen, orig)\n",
    "    \n",
    "    KL_loss = 0.5 * torch.sum(torch.exp(gamma) + torch.pow(mu, 2) - 1 - gamma)\n",
    "    \n",
    "    return KL_loss + rec_loss\n",
    "\n",
    "opt = optim.Adam(model.parameters(), lr=1e-3)\n",
    "\n"
   ]
  },
  {
   "cell_type": "code",
   "execution_count": 157,
   "metadata": {},
   "outputs": [
    {
     "name": "stderr",
     "output_type": "stream",
     "text": [
      "/Library/Frameworks/Python.framework/Versions/3.7/lib/python3.7/site-packages/torch/nn/functional.py:1351: UserWarning: nn.functional.sigmoid is deprecated. Use torch.sigmoid instead.\n",
      "  warnings.warn(\"nn.functional.sigmoid is deprecated. Use torch.sigmoid instead.\")\n"
     ]
    },
    {
     "name": "stdout",
     "output_type": "stream",
     "text": [
      "ep #0, overall loss=612.710572734375, current batch loss=477.367919921875\n"
     ]
    },
    {
     "ename": "KeyboardInterrupt",
     "evalue": "",
     "output_type": "error",
     "traceback": [
      "\u001b[0;31m---------------------------------------------------------------------------\u001b[0m",
      "\u001b[0;31mKeyboardInterrupt\u001b[0m                         Traceback (most recent call last)",
      "\u001b[0;32m<ipython-input-157-92562238fc77>\u001b[0m in \u001b[0;36m<module>\u001b[0;34m\u001b[0m\n\u001b[1;32m     20\u001b[0m         \u001b[0mloss\u001b[0m \u001b[0;34m=\u001b[0m \u001b[0mloss_fn\u001b[0m\u001b[0;34m(\u001b[0m\u001b[0mreconstruction\u001b[0m\u001b[0;34m,\u001b[0m \u001b[0mimg\u001b[0m\u001b[0;34m,\u001b[0m \u001b[0mmu\u001b[0m\u001b[0;34m,\u001b[0m \u001b[0mgamma\u001b[0m\u001b[0;34m)\u001b[0m\u001b[0;34m\u001b[0m\u001b[0;34m\u001b[0m\u001b[0m\n\u001b[1;32m     21\u001b[0m \u001b[0;34m\u001b[0m\u001b[0m\n\u001b[0;32m---> 22\u001b[0;31m         \u001b[0mloss\u001b[0m\u001b[0;34m.\u001b[0m\u001b[0mbackward\u001b[0m\u001b[0;34m(\u001b[0m\u001b[0;34m)\u001b[0m\u001b[0;34m\u001b[0m\u001b[0;34m\u001b[0m\u001b[0m\n\u001b[0m\u001b[1;32m     23\u001b[0m \u001b[0;34m\u001b[0m\u001b[0m\n\u001b[1;32m     24\u001b[0m         \u001b[0moverall_loss\u001b[0m \u001b[0;34m+=\u001b[0m \u001b[0mloss\u001b[0m\u001b[0;34m.\u001b[0m\u001b[0mitem\u001b[0m\u001b[0;34m(\u001b[0m\u001b[0;34m)\u001b[0m\u001b[0;34m\u001b[0m\u001b[0;34m\u001b[0m\u001b[0m\n",
      "\u001b[0;32m/Library/Frameworks/Python.framework/Versions/3.7/lib/python3.7/site-packages/torch/tensor.py\u001b[0m in \u001b[0;36mbackward\u001b[0;34m(self, gradient, retain_graph, create_graph)\u001b[0m\n\u001b[1;32m    193\u001b[0m                 \u001b[0mproducts\u001b[0m\u001b[0;34m.\u001b[0m \u001b[0mDefaults\u001b[0m \u001b[0mto\u001b[0m\u001b[0;31m \u001b[0m\u001b[0;31m`\u001b[0m\u001b[0;31m`\u001b[0m\u001b[0;32mFalse\u001b[0m\u001b[0;31m`\u001b[0m\u001b[0;31m`\u001b[0m\u001b[0;34m.\u001b[0m\u001b[0;34m\u001b[0m\u001b[0;34m\u001b[0m\u001b[0m\n\u001b[1;32m    194\u001b[0m         \"\"\"\n\u001b[0;32m--> 195\u001b[0;31m         \u001b[0mtorch\u001b[0m\u001b[0;34m.\u001b[0m\u001b[0mautograd\u001b[0m\u001b[0;34m.\u001b[0m\u001b[0mbackward\u001b[0m\u001b[0;34m(\u001b[0m\u001b[0mself\u001b[0m\u001b[0;34m,\u001b[0m \u001b[0mgradient\u001b[0m\u001b[0;34m,\u001b[0m \u001b[0mretain_graph\u001b[0m\u001b[0;34m,\u001b[0m \u001b[0mcreate_graph\u001b[0m\u001b[0;34m)\u001b[0m\u001b[0;34m\u001b[0m\u001b[0;34m\u001b[0m\u001b[0m\n\u001b[0m\u001b[1;32m    196\u001b[0m \u001b[0;34m\u001b[0m\u001b[0m\n\u001b[1;32m    197\u001b[0m     \u001b[0;32mdef\u001b[0m \u001b[0mregister_hook\u001b[0m\u001b[0;34m(\u001b[0m\u001b[0mself\u001b[0m\u001b[0;34m,\u001b[0m \u001b[0mhook\u001b[0m\u001b[0;34m)\u001b[0m\u001b[0;34m:\u001b[0m\u001b[0;34m\u001b[0m\u001b[0;34m\u001b[0m\u001b[0m\n",
      "\u001b[0;32m/Library/Frameworks/Python.framework/Versions/3.7/lib/python3.7/site-packages/torch/autograd/__init__.py\u001b[0m in \u001b[0;36mbackward\u001b[0;34m(tensors, grad_tensors, retain_graph, create_graph, grad_variables)\u001b[0m\n\u001b[1;32m     97\u001b[0m     Variable._execution_engine.run_backward(\n\u001b[1;32m     98\u001b[0m         \u001b[0mtensors\u001b[0m\u001b[0;34m,\u001b[0m \u001b[0mgrad_tensors\u001b[0m\u001b[0;34m,\u001b[0m \u001b[0mretain_graph\u001b[0m\u001b[0;34m,\u001b[0m \u001b[0mcreate_graph\u001b[0m\u001b[0;34m,\u001b[0m\u001b[0;34m\u001b[0m\u001b[0;34m\u001b[0m\u001b[0m\n\u001b[0;32m---> 99\u001b[0;31m         allow_unreachable=True)  # allow_unreachable flag\n\u001b[0m\u001b[1;32m    100\u001b[0m \u001b[0;34m\u001b[0m\u001b[0m\n\u001b[1;32m    101\u001b[0m \u001b[0;34m\u001b[0m\u001b[0m\n",
      "\u001b[0;31mKeyboardInterrupt\u001b[0m: "
     ]
    }
   ],
   "source": [
    "n_epoches = 10\n",
    "\n",
    "losses = []\n",
    "\n",
    "for ep in range(n_epoches):\n",
    "    model.train()  # turn on 'train mode'\n",
    "    overall_loss = 0\n",
    "    \n",
    "    for batch_idx, data in enumerate(dataloader):\n",
    "        \n",
    "        img, _ = data\n",
    "        \n",
    "        img = img.view(img.size(0), -1)\n",
    "#         print(\"size into train \", img.size())\n",
    "        img = torch.autograd.Variable(img)\n",
    "        \n",
    "        opt.zero_grad()\n",
    "        reconstruction, mu, gamma = model.forward(img)\n",
    "        \n",
    "        loss = loss_fn(reconstruction, img, mu, gamma)\n",
    "        \n",
    "        loss.backward()\n",
    "        \n",
    "        overall_loss += loss.item()\n",
    "        opt.step()\n",
    "        \n",
    "        losses.append(loss.item())\n",
    "        \n",
    "    if ep % 2 == 0 :\n",
    "        print(\"ep #{}, overall loss={}, current batch loss={}\".format(ep, \n",
    "                                                                      overall_loss/len(dataloader.dataset), \n",
    "                                                                      loss.item()/len(img)))"
   ]
  },
  {
   "cell_type": "code",
   "execution_count": 128,
   "metadata": {},
   "outputs": [],
   "source": [
    "# Let's generate new images\n",
    "\n",
    "coding = torch.normal(mean=1, std=1, size=(10, 20))\n",
    "\n",
    "outvals = model.decode(coding)\n",
    "\n",
    "ax = []\n",
    "fig = plt.figure(figsize=(15, 6))\n",
    "\n",
    "for i in range(10)\n",
    "    ax.append(fig.add_subplot(2, 5, i+1))\n",
    "    plot_image(outvals[i].detach().numpy())"
   ]
  },
  {
   "cell_type": "code",
   "execution_count": 129,
   "metadata": {},
   "outputs": [
    {
     "data": {
      "text/plain": [
       "torch.Size([10, 3072])"
      ]
     },
     "execution_count": 129,
     "metadata": {},
     "output_type": "execute_result"
    }
   ],
   "source": [
    "outvals.shape"
   ]
  },
  {
   "cell_type": "code",
   "execution_count": 249,
   "metadata": {},
   "outputs": [],
   "source": [
    "outvals_np = outvals[2].detach().numpy()\n"
   ]
  },
  {
   "cell_type": "code",
   "execution_count": 250,
   "metadata": {},
   "outputs": [],
   "source": [
    "def reshape(image):\n",
    "    return np.reshape(image, (3, 32, 32))"
   ]
  },
  {
   "cell_type": "code",
   "execution_count": 251,
   "metadata": {},
   "outputs": [
    {
     "data": {
      "image/png": "[encoded data removed]",
      "text/plain": [
       "<Figure size 432x288 with 1 Axes>"
      ]
     },
     "metadata": {
      "needs_background": "light"
     },
     "output_type": "display_data"
    }
   ],
   "source": [
    "imshow( torch.tensor( reshape(outvals_np)) )"
   ]
  },
  {
   "cell_type": "code",
   "execution_count": null,
   "metadata": {},
   "outputs": [],
   "source": []
  }
 ],
 "metadata": {
  "kernelspec": {
   "display_name": "Python 3",
   "language": "python",
   "name": "python3"
  },
  "language_info": {
   "codemirror_mode": {
    "name": "ipython",
    "version": 3
   },
   "file_extension": ".py",
   "mimetype": "text/x-python",
   "name": "python",
   "nbconvert_exporter": "python",
   "pygments_lexer": "ipython3",
   "version": "3.7.3"
  }
 },
 "nbformat": 4,
 "nbformat_minor": 4
}
