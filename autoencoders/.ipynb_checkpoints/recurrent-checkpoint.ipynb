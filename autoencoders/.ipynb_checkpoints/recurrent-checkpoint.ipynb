{
 "cells": [
  {
   "cell_type": "code",
   "execution_count": null,
   "metadata": {},
   "outputs": [],
   "source": [
    "# *************************** RECURRENT AUTOENCODER *********************************** #"
   ]
  },
  {
   "cell_type": "code",
   "execution_count": 1,
   "metadata": {},
   "outputs": [],
   "source": [
    "import tensorflow as tf\n",
    "import numpy as np\n",
    "import matplotlib.pyplot as plt\n",
    "from tensorflow import keras as K"
   ]
  },
  {
   "cell_type": "code",
   "execution_count": 2,
   "metadata": {},
   "outputs": [],
   "source": [
    "# load data set\n",
    "(X_train_full, y_train_full), (X_test, y_test) = K.datasets.mnist.load_data()\n",
    "X_train_full = X_train_full.astype(np.float32) / 255\n",
    "X_test = X_test.astype(np.float32) / 255\n",
    "X_train, X_valid = X_train_full[:-5000], X_train_full[-5000:]\n",
    "y_train, y_valid = y_train_full[:-5000], y_train_full[-5000:]"
   ]
  },
  {
   "cell_type": "code",
   "execution_count": 8,
   "metadata": {},
   "outputs": [],
   "source": [
    "# define class\n",
    "class Recurrent:\n",
    "    def __init__(self, input_space=[28, 28], \n",
    "                 latent_space_structure=[28, 100, 30, 100, 28]):\n",
    "        \n",
    "        assert instanceof(input_space, list)\n",
    "\n",
    "        self.encoder = K.models.Sequential([\n",
    "            K.layers.LSTM(units=100, return_sequences=True, input_shape=[28, 28]),\n",
    "            K.layers.LSTM(units=30)\n",
    "        ])\n",
    "        \n",
    "        self.decoder = K.models.Sequential([\n",
    "            K.layers.RepeatVector(28, input_shape=[30]),\n",
    "            K.layers.LSTM(units=100, return_sequences=True),\n",
    "            \n",
    "            K.layers.TimeDistributed(K.layers.Dense(28, activation='sigmoid'))\n",
    "            \n",
    "        ])\n",
    "        \n",
    "        self.model = K.models.Sequential([self.encoder, self.decoder])\n",
    "        \n",
    "    def train(self, X_train, X_test, epochs=10, batch_size=32):\n",
    "        \n",
    "        self.model.compile(loss='binary_crossentropy', \n",
    "                           optimizer='adam', metrics=['accuracy'])\n",
    "        \n",
    "        h = self.model.fit(X_train, X_train, \n",
    "                       epochs=epochs, \n",
    "                       batch_size=batch_size,\n",
    "                       validation_data=(X_test, X_test))\n",
    "        \n",
    "    # Plot Accuracy & Loss curves\n",
    "    def plot(self):\n",
    "        fig = plt.figure(figsize=(15, 6))\n",
    "        \n",
    "        ax1 = fig.add_subplot(1, 2, 1)\n",
    "        ax1.set_title(\"Accuracy\")\n",
    "        ax1.set_xlabel(\"Number of epochs\")\n",
    "        ax1.plot(self.h.history['accuracy'], color='blue')\n",
    "        \n",
    "        ax2 = fig.add_subplot(1, 2, 2)\n",
    "        ax2.set_title(\"Loss\")\n",
    "        ax2.set_xlabel(\"Number of epochs\")\n",
    "        ax2.plot(self.h.history['loss'], color='red')\n",
    "        \n",
    "        plt.grid(True)\n",
    "        plt.show()\n",
    "        \n",
    "    def plot_image(img):\n",
    "        plt.imshow(image, cmap=\"binary\")\n",
    "        plt.axis(\"off\")\n",
    "        \n",
    "    def show_reconstructions(self, images=X_valid, n_images=5):\n",
    "    \n",
    "        reconstructions = self.model.predict(images[:n_images])\n",
    "        fig = plt.figure(figsize=(n_images * 1.5, 3))\n",
    "        for image_index in range(n_images):\n",
    "            plt.subplot(2, n_images, 1 + image_index)\n",
    "            plot_image(images[image_index])\n",
    "            plt.subplot(2, n_images, 1 + n_images + image_index)\n",
    "            plot_image(reconstructions[image_index])   \n",
    "        \n",
    "        "
   ]
  },
  {
   "cell_type": "code",
   "execution_count": 9,
   "metadata": {},
   "outputs": [],
   "source": [
    "model = Recurrent()"
   ]
  },
  {
   "cell_type": "code",
   "execution_count": null,
   "metadata": {},
   "outputs": [
    {
     "name": "stdout",
     "output_type": "stream",
     "text": [
      "Epoch 1/5\n",
      "108/108 [==============================] - 52s 481ms/step - loss: 0.3490 - accuracy: 0.0612 - val_loss: 0.2956 - val_accuracy: 0.0725\n",
      "Epoch 2/5\n",
      "108/108 [==============================] - 50s 465ms/step - loss: 0.2881 - accuracy: 0.0696 - val_loss: 0.2766 - val_accuracy: 0.0679\n",
      "Epoch 3/5\n",
      " 63/108 [================>.............] - ETA: 18s - loss: 0.2724 - accuracy: 0.0730"
     ]
    }
   ],
   "source": [
    "model.train(X_train, X_test, epochs=5, batch_size=512)"
   ]
  },
  {
   "cell_type": "code",
   "execution_count": 7,
   "metadata": {},
   "outputs": [
    {
     "ename": "NameError",
     "evalue": "name 'plot_image' is not defined",
     "output_type": "error",
     "traceback": [
      "\u001b[0;31m---------------------------------------------------------------------------\u001b[0m",
      "\u001b[0;31mNameError\u001b[0m                                 Traceback (most recent call last)",
      "\u001b[0;32m<ipython-input-7-13c6677ae512>\u001b[0m in \u001b[0;36m<module>\u001b[0;34m\u001b[0m\n\u001b[0;32m----> 1\u001b[0;31m \u001b[0mmodel\u001b[0m\u001b[0;34m.\u001b[0m\u001b[0mshow_reconstructions\u001b[0m\u001b[0;34m(\u001b[0m\u001b[0;34m)\u001b[0m\u001b[0;34m\u001b[0m\u001b[0;34m\u001b[0m\u001b[0m\n\u001b[0m",
      "\u001b[0;32m<ipython-input-3-3c7889ee5979>\u001b[0m in \u001b[0;36mshow_reconstructions\u001b[0;34m(self, images, n_images)\u001b[0m\n\u001b[1;32m     51\u001b[0m         \u001b[0;32mfor\u001b[0m \u001b[0mimage_index\u001b[0m \u001b[0;32min\u001b[0m \u001b[0mrange\u001b[0m\u001b[0;34m(\u001b[0m\u001b[0mn_images\u001b[0m\u001b[0;34m)\u001b[0m\u001b[0;34m:\u001b[0m\u001b[0;34m\u001b[0m\u001b[0;34m\u001b[0m\u001b[0m\n\u001b[1;32m     52\u001b[0m             \u001b[0mplt\u001b[0m\u001b[0;34m.\u001b[0m\u001b[0msubplot\u001b[0m\u001b[0;34m(\u001b[0m\u001b[0;36m2\u001b[0m\u001b[0;34m,\u001b[0m \u001b[0mn_images\u001b[0m\u001b[0;34m,\u001b[0m \u001b[0;36m1\u001b[0m \u001b[0;34m+\u001b[0m \u001b[0mimage_index\u001b[0m\u001b[0;34m)\u001b[0m\u001b[0;34m\u001b[0m\u001b[0;34m\u001b[0m\u001b[0m\n\u001b[0;32m---> 53\u001b[0;31m             \u001b[0mplot_image\u001b[0m\u001b[0;34m(\u001b[0m\u001b[0mimages\u001b[0m\u001b[0;34m[\u001b[0m\u001b[0mimage_index\u001b[0m\u001b[0;34m]\u001b[0m\u001b[0;34m)\u001b[0m\u001b[0;34m\u001b[0m\u001b[0;34m\u001b[0m\u001b[0m\n\u001b[0m\u001b[1;32m     54\u001b[0m             \u001b[0mplt\u001b[0m\u001b[0;34m.\u001b[0m\u001b[0msubplot\u001b[0m\u001b[0;34m(\u001b[0m\u001b[0;36m2\u001b[0m\u001b[0;34m,\u001b[0m \u001b[0mn_images\u001b[0m\u001b[0;34m,\u001b[0m \u001b[0;36m1\u001b[0m \u001b[0;34m+\u001b[0m \u001b[0mn_images\u001b[0m \u001b[0;34m+\u001b[0m \u001b[0mimage_index\u001b[0m\u001b[0;34m)\u001b[0m\u001b[0;34m\u001b[0m\u001b[0;34m\u001b[0m\u001b[0m\n\u001b[1;32m     55\u001b[0m             \u001b[0mplot_image\u001b[0m\u001b[0;34m(\u001b[0m\u001b[0mreconstructions\u001b[0m\u001b[0;34m[\u001b[0m\u001b[0mimage_index\u001b[0m\u001b[0;34m]\u001b[0m\u001b[0;34m)\u001b[0m\u001b[0;34m\u001b[0m\u001b[0;34m\u001b[0m\u001b[0m\n",
      "\u001b[0;31mNameError\u001b[0m: name 'plot_image' is not defined"
     ]
    },
    {
     "data": {
      "image/png": "[encoded data removed]",
      "text/plain": [
       "<Figure size 540x216 with 1 Axes>"
      ]
     },
     "metadata": {
      "needs_background": "light"
     },
     "output_type": "display_data"
    }
   ],
   "source": [
    "model.show_reconstructions()"
   ]
  },
  {
   "cell_type": "code",
   "execution_count": null,
   "metadata": {},
   "outputs": [],
   "source": []
  },
  {
   "cell_type": "code",
   "execution_count": null,
   "metadata": {},
   "outputs": [],
   "source": []
  },
  {
   "cell_type": "code",
   "execution_count": null,
   "metadata": {},
   "outputs": [],
   "source": []
  }
 ],
 "metadata": {
  "kernelspec": {
   "display_name": "Python 3",
   "language": "python",
   "name": "python3"
  },
  "language_info": {
   "codemirror_mode": {
    "name": "ipython",
    "version": 3
   },
   "file_extension": ".py",
   "mimetype": "text/x-python",
   "name": "python",
   "nbconvert_exporter": "python",
   "pygments_lexer": "ipython3",
   "version": "3.7.3"
  }
 },
 "nbformat": 4,
 "nbformat_minor": 4
}
