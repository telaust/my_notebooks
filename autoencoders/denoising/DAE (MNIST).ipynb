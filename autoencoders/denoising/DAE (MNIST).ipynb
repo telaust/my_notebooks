{
 "cells": [
  {
   "cell_type": "code",
   "execution_count": 71,
   "metadata": {},
   "outputs": [],
   "source": [
    "import torch \n",
    "from torch import nn\n",
    "from torch import optim\n",
    "from torchvision import transforms\n",
    "from torchvision.datasets import MNIST\n",
    "from torch.utils.data import DataLoader\n",
    "import matplotlib.pyplot as plt\n",
    "import time"
   ]
  },
  {
   "cell_type": "code",
   "execution_count": 36,
   "metadata": {
    "scrolled": true
   },
   "outputs": [],
   "source": [
    "# download dataset\n",
    "\n",
    "img_transform = transforms.Compose([\n",
    "    transforms.ToTensor(),\n",
    "    transforms.Normalize((0.5,), (0.5,) ) # мат ожидание и дисперсия \n",
    "])\n",
    "\n",
    "dataset = MNIST('./data', transform=img_transform, download=True)\n",
    "loader = DataLoader(dataset=dataset, batch_size=n_batches, shuffle=True)"
   ]
  },
  {
   "cell_type": "code",
   "execution_count": 37,
   "metadata": {},
   "outputs": [],
   "source": [
    "# define hyperparams\n",
    "\n",
    "n_epoches = 10\n",
    "lr = 1e-2\n",
    "n_batches = 128\n",
    "mu = 0.0\n",
    "sigma = 1.0"
   ]
  },
  {
   "cell_type": "code",
   "execution_count": 63,
   "metadata": {},
   "outputs": [],
   "source": [
    "# noise for DAE\n",
    "noise = torch.empty(784).normal_(mean=mu, std=sigma)"
   ]
  },
  {
   "cell_type": "code",
   "execution_count": 65,
   "metadata": {},
   "outputs": [],
   "source": [
    "\n",
    "\n",
    "class DAE(nn.Module):\n",
    "    \n",
    "    def __init__(self, inp_size, hid1_size, hid2_size, mu, sigma):\n",
    "        super(DAE, self).__init__()\n",
    "        \n",
    "        self.inp_size = inp_size\n",
    "        \n",
    "        self.mu = mu\n",
    "        self.sigma = sigma\n",
    "        \n",
    "        self.lin1 = nn.Linear(inp_size, hid1_size)\n",
    "        nn.init.kaiming_uniform_(self.lin1.weight)\n",
    "        self.hid1 = nn.ELU()\n",
    "        \n",
    "        self.lin2 = nn.Linear(hid1_size, hid2_size)\n",
    "        nn.init.kaiming_uniform_(self.lin1.weight)\n",
    "        self.hid2 = nn.ELU()\n",
    "        \n",
    "        self.lin3 = nn.Linear(hid2_size, inp_size)\n",
    "        \n",
    "    def forward(self, x):\n",
    "        # create noise\n",
    "#         noise = torch.empty(self.inp_size).normal_(mean=mu, std=sigma)\n",
    "        # add noise\n",
    "        x += noise\n",
    "        \n",
    "        x = self.hid1(self.lin1(x))\n",
    "        x = self.hid2(self.lin2(x))\n",
    "        x = self.lin3(x)\n",
    "        \n",
    "        return x"
   ]
  },
  {
   "cell_type": "code",
   "execution_count": 66,
   "metadata": {},
   "outputs": [],
   "source": [
    "dae = DAE(784, 300, 150, mu=mu, sigma=sigma)"
   ]
  },
  {
   "cell_type": "code",
   "execution_count": 67,
   "metadata": {},
   "outputs": [
    {
     "data": {
      "text/plain": [
       "DAE(\n",
       "  (lin1): Linear(in_features=784, out_features=300, bias=True)\n",
       "  (hid1): ELU(alpha=1.0)\n",
       "  (lin2): Linear(in_features=300, out_features=150, bias=True)\n",
       "  (hid2): ELU(alpha=1.0)\n",
       "  (lin3): Linear(in_features=150, out_features=784, bias=True)\n",
       ")"
      ]
     },
     "execution_count": 67,
     "metadata": {},
     "output_type": "execute_result"
    }
   ],
   "source": [
    "dae"
   ]
  },
  {
   "cell_type": "code",
   "execution_count": 68,
   "metadata": {},
   "outputs": [],
   "source": [
    "crit = nn.MSELoss()\n",
    "opt = optim.Adam(dae.parameters(), lr=lr, weight_decay=1e-5)"
   ]
  },
  {
   "cell_type": "code",
   "execution_count": 70,
   "metadata": {},
   "outputs": [
    {
     "name": "stdout",
     "output_type": "stream",
     "text": [
      "epoch #2; loss is 0.1499289870262146\n",
      "epoch #4; loss is 0.15874995291233063\n",
      "epoch #6; loss is 0.10947581380605698\n",
      "epoch #8; loss is 0.10370936989784241\n",
      "epoch #10; loss is 0.08584535866975784\n"
     ]
    }
   ],
   "source": [
    "losses = []\n",
    "\n",
    "for ep in range(n_epoches):\n",
    "    \n",
    "    for data in loader:\n",
    "        img, _ = data\n",
    "        \n",
    "        img = img.view(img.size(0), -1) # flatten\n",
    "        \n",
    "        # forward pass\n",
    "        out = dae.forward(img)\n",
    "        loss = crit(out, img)\n",
    "        \n",
    "        # backward pass\n",
    "        opt.zero_grad()\n",
    "        loss.backward()\n",
    "        opt.step()\n",
    "        \n",
    "        losses.append(loss.item())\n",
    "        \n",
    "    if (ep+1) % 2 == 0:\n",
    "        print(\"epoch #{}; loss is {}\".format(ep+1, loss.item()))\n",
    "        "
   ]
  },
  {
   "cell_type": "code",
   "execution_count": 60,
   "metadata": {},
   "outputs": [],
   "source": [
    "def train(n_epoches, printing=True):\n",
    "    losses = []\n",
    "    \n",
    "    for ep in range(n_epoches):\n",
    "    \n",
    "        for data in loader:\n",
    "            img, _ = data\n",
    "        \n",
    "            img = img.view(img.size(0), -1) # flatten\n",
    "        \n",
    "            # forward pass\n",
    "            out = dae.forward(img)\n",
    "            loss = crit(out, img)\n",
    "        \n",
    "            # backward pass\n",
    "            opt.zero_grad()\n",
    "            loss.backward()\n",
    "            opt.step()\n",
    "\n",
    "            losses.append(loss.item())\n",
    "\n",
    "        if ep+1 % 2 == 0 and printing:\n",
    "            print(\"epoch #{}; loss is {}\".format(ep+1, loss.item()))\n",
    "\n",
    "    return losses"
   ]
  },
  {
   "cell_type": "code",
   "execution_count": 78,
   "metadata": {},
   "outputs": [
    {
     "data": {
      "image/png": "[encoded data removed]",
      "text/plain": [
       "<Figure size 720x360 with 1 Axes>"
      ]
     },
     "metadata": {
      "needs_background": "light"
     },
     "output_type": "display_data"
    }
   ],
   "source": [
    "plt.figure(figsize=(10, 5))\n",
    "plt.plot(losses)\n",
    "plt.title(\"Loss history for {} epoches (batch = {})\".format(n_epoches, n_batches))\n",
    "plt.show()"
   ]
  },
  {
   "cell_type": "code",
   "execution_count": null,
   "metadata": {},
   "outputs": [],
   "source": []
  }
 ],
 "metadata": {
  "kernelspec": {
   "display_name": "Python 3",
   "language": "python",
   "name": "python3"
  },
  "language_info": {
   "codemirror_mode": {
    "name": "ipython",
    "version": 3
   },
   "file_extension": ".py",
   "mimetype": "text/x-python",
   "name": "python",
   "nbconvert_exporter": "python",
   "pygments_lexer": "ipython3",
   "version": "3.7.3"
  }
 },
 "nbformat": 4,
 "nbformat_minor": 4
}
